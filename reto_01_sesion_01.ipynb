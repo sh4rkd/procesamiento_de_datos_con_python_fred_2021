{
  "nbformat": 4,
  "nbformat_minor": 0,
  "metadata": {
    "kernelspec": {
      "display_name": "Python 3",
      "language": "python",
      "name": "python3"
    },
    "language_info": {
      "codemirror_mode": {
        "name": "ipython",
        "version": 3
      },
      "file_extension": ".py",
      "mimetype": "text/x-python",
      "name": "python",
      "nbconvert_exporter": "python",
      "pygments_lexer": "ipython3",
      "version": "3.8.3"
    },
    "colab": {
      "name": "variables.ipynb",
      "provenance": []
    }
  },
  "cells": [
    {
      "cell_type": "markdown",
      "metadata": {
        "id": "OBt-z8z6sWa4"
      },
      "source": [
        "## Reto 1: Variables\n",
        "\n",
        "### 1. Objetivos:\n",
        "    - Practicar convención de nombramiento y asignación de variables\n",
        " \n",
        "---\n",
        "    \n",
        "### 2. Desarrollo:"
      ]
    },
    {
      "cell_type": "markdown",
      "metadata": {
        "id": "A4hel8DqsWa6"
      },
      "source": [
        "Indica cuáles nombres de variables son válidos y cuáles con inválidos. Puedes hacerlo colocando un comentario al lado de cada asignación (`# esto es un comentario`). Los comentarios son texto que Python ignora a la hora de correr una celda. Nos sirven para hacer anotaciones."
      ]
    },
    {
      "cell_type": "code",
      "metadata": {
        "id": "1mEaGJOtsWa6"
      },
      "source": [
        "var_1 = 5 #valido\n",
        "\n",
        "variable_nueva_2 = 10 #valido\n",
        "\n",
        "Variable_nueva_3 = 11 #invalido\n",
        "\n",
        "var_3_1 = 14 #valido\n",
        "\n",
        "varNueva4 = 44 #valido\n",
        "\n",
        "var_nuevaNumero = 98 #valido\n",
        "\n",
        "var_num = 22 #valido\n",
        "\n",
        "VarNum = 11 #invalido\n",
        "\n",
        "soyUnaVariable = 14 #valido"
      ],
      "execution_count": null,
      "outputs": []
    },
    {
      "cell_type": "markdown",
      "metadata": {
        "id": "wrYnRWtmsWa7"
      },
      "source": [
        "Ahora practica realizar algunas asignaciones en la celda de abajo. ¡Puedes asignarle a tus variables números enteros y también decimales!"
      ]
    },
    {
      "cell_type": "code",
      "metadata": {
        "id": "5P9KPwpJsWa7"
      },
      "source": [
        "# Asigna el número 12345 a una variable llamada variable_locochona\n",
        "\n",
        "variable_locochona = 12345\n",
        "\n",
        "# Asigna el número 14.567 a una variable llamada var_decimal\n",
        "\n",
        "var_decimal = 14.567\n",
        "\n",
        "# Asigna cualquier número a una varible que tenga 5 palabras en su nombre (recuerda las convenciones)\n",
        "\n",
        "hola_soy_una_variable_convencional = 5\n",
        "\n",
        "# Asigna cualquier número a una variable que incluya palabras y números en su nombre\n",
        "\n",
        "soy_1_variable = 6\n",
        "\n",
        "# Asigna variables a discreción\n",
        "\n",
        "hola_mundo = \"hola mundo\""
      ],
      "execution_count": null,
      "outputs": []
    },
    {
      "cell_type": "code",
      "metadata": {
        "id": "hKqPLzRKsWa8"
      },
      "source": [
        ""
      ],
      "execution_count": null,
      "outputs": []
    }
  ]
}