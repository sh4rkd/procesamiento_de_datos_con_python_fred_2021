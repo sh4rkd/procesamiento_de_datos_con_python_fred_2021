{
  "nbformat": 4,
  "nbformat_minor": 0,
  "metadata": {
    "kernelspec": {
      "display_name": "Python 3",
      "language": "python",
      "name": "python3"
    },
    "language_info": {
      "codemirror_mode": {
        "name": "ipython",
        "version": 3
      },
      "file_extension": ".py",
      "mimetype": "text/x-python",
      "name": "python",
      "nbconvert_exporter": "python",
      "pygments_lexer": "ipython3",
      "version": "3.8.3"
    },
    "colab": {
      "name": "merge.ipynb",
      "provenance": [],
      "include_colab_link": true
    }
  },
  "cells": [
    {
      "cell_type": "markdown",
      "metadata": {
        "id": "view-in-github",
        "colab_type": "text"
      },
      "source": [
        "<a href=\"https://colab.research.google.com/github/sh4rkd/procesamiento_de_datos_con_python_fred_2021/blob/master/Sesion-08/Reto-03/merge.ipynb\" target=\"_parent\"><img src=\"https://colab.research.google.com/assets/colab-badge.svg\" alt=\"Open In Colab\"/></a>"
      ]
    },
    {
      "cell_type": "markdown",
      "metadata": {
        "id": "eFQh0O9HwUQ6"
      },
      "source": [
        "## Reto 3: `merge` para completar información faltante\n",
        "\n",
        "### 1. Objetivos:\n",
        "    - Completar la tabla `users` usando la información contenida en las tablas `occupations` y `age_ranges`.\n",
        "    \n",
        "---\n",
        "    \n",
        "### 2. Desarrollo:"
      ]
    },
    {
      "cell_type": "markdown",
      "metadata": {
        "id": "EuF9nGx4wUQ9"
      },
      "source": [
        "#### a) Complementado información usando el método `merge`\n",
        "\n",
        "No es muy práctico tener las tablas `occupations` y `age_range` por sí solas, ya que la información que contienen está íntimamente relacionada con al información de la tabla `users`. Vamos entonces a unir las tres tablas en una sola tabla para tener esa información mucho más accesible. Tu Reto consiste en los siguientes pasos:\n",
        "\n",
        "1. Lee tus archivos `users`, `occupations` y `age_range` (o como sea que les quisiste llamar) y conviértelos en `DataFrames`.\n",
        "2. Utiliza el método `merge` para agregar la información contenida en la tabla `occupations` a la tabla `users`.\n",
        "3. Utiliza el método `merge` para agregar la información contenida en la tabla `age_ranges` a la tabla `users`.\n",
        "4. Si lo consideras necesario, renombra y reordena las columnas para que la información sea clara.\n",
        "5. Guarda tu nuevo conjunto de datos en un nuevo archivo .csv."
      ]
    },
    {
      "cell_type": "code",
      "metadata": {
        "id": "XZZpl-mWwUQ-"
      },
      "source": [
        "import pandas as pd\n",
        "users = pd.read_csv('https://github.com/beduExpert/Procesamiento-de-Datos-con-Python-Santander_2020_2021/raw/master/Datasets/MovieLens/users-raw.csv', index_col=0, names=['gender', 'age', 'occupation', 'cp'])\n",
        "occupations = pd.read_csv('https://github.com/beduExpert/Procesamiento-de-Datos-con-Python-Santander_2020_2021/raw/master/Datasets/MovieLens/occupations-raw.csv', index_col=0, names=['description'])\n",
        "age = pd.read_csv('https://github.com/beduExpert/Procesamiento-de-Datos-con-Python-Santander_2020_2021/raw/master/Datasets/MovieLens/age_ranges-raw.csv',index_col=0,names = ['range'])"
      ],
      "execution_count": 26,
      "outputs": []
    },
    {
      "cell_type": "code",
      "metadata": {
        "id": "NRLz7uK31QQR"
      },
      "source": [
        "df_users = pd.DataFrame(users,columns=[\"gender\",\"age\",\"occupation\",\"cp\"])\n",
        "df_occupations = pd.DataFrame(occupations,columns=['description'])\n",
        "df_age = pd.DataFrame(age,columns=[\"range\"])"
      ],
      "execution_count": 27,
      "outputs": []
    },
    {
      "cell_type": "code",
      "metadata": {
        "id": "aJoEdi212h3D"
      },
      "source": [
        "df_users_full = pd.merge(df_users, df_occupations, left_on='occupation', right_index=True)"
      ],
      "execution_count": 28,
      "outputs": []
    },
    {
      "cell_type": "code",
      "metadata": {
        "id": "2qlI4ZAv2-NB"
      },
      "source": [
        "df_users_full = pd.merge(df_users_full, df_age, left_on='age', right_index=True)"
      ],
      "execution_count": 33,
      "outputs": []
    },
    {
      "cell_type": "code",
      "metadata": {
        "id": "npgKg8_W3jYa",
        "outputId": "b6dbb20d-fd72-4551-de56-2c6bb0dab440",
        "colab": {
          "base_uri": "https://localhost:8080/",
          "height": 419
        }
      },
      "source": [
        "df_users_full.sort_index()"
      ],
      "execution_count": 34,
      "outputs": [
        {
          "output_type": "execute_result",
          "data": {
            "text/html": [
              "<div>\n",
              "<style scoped>\n",
              "    .dataframe tbody tr th:only-of-type {\n",
              "        vertical-align: middle;\n",
              "    }\n",
              "\n",
              "    .dataframe tbody tr th {\n",
              "        vertical-align: top;\n",
              "    }\n",
              "\n",
              "    .dataframe thead th {\n",
              "        text-align: right;\n",
              "    }\n",
              "</style>\n",
              "<table border=\"1\" class=\"dataframe\">\n",
              "  <thead>\n",
              "    <tr style=\"text-align: right;\">\n",
              "      <th></th>\n",
              "      <th>gender</th>\n",
              "      <th>age</th>\n",
              "      <th>occupation</th>\n",
              "      <th>cp</th>\n",
              "      <th>description</th>\n",
              "      <th>range_x</th>\n",
              "      <th>range_y</th>\n",
              "    </tr>\n",
              "  </thead>\n",
              "  <tbody>\n",
              "    <tr>\n",
              "      <th>1</th>\n",
              "      <td>F</td>\n",
              "      <td>1</td>\n",
              "      <td>10</td>\n",
              "      <td>48067</td>\n",
              "      <td>K-12 student</td>\n",
              "      <td>Under 18</td>\n",
              "      <td>Under 18</td>\n",
              "    </tr>\n",
              "    <tr>\n",
              "      <th>10</th>\n",
              "      <td>F</td>\n",
              "      <td>35</td>\n",
              "      <td>1</td>\n",
              "      <td>95370</td>\n",
              "      <td>academic/educator</td>\n",
              "      <td>35-44</td>\n",
              "      <td>35-44</td>\n",
              "    </tr>\n",
              "    <tr>\n",
              "      <th>100</th>\n",
              "      <td>M</td>\n",
              "      <td>35</td>\n",
              "      <td>17</td>\n",
              "      <td>95401</td>\n",
              "      <td>technician/engineer</td>\n",
              "      <td>35-44</td>\n",
              "      <td>35-44</td>\n",
              "    </tr>\n",
              "    <tr>\n",
              "      <th>1000</th>\n",
              "      <td>F</td>\n",
              "      <td>25</td>\n",
              "      <td>6</td>\n",
              "      <td>90027</td>\n",
              "      <td>doctor/health care</td>\n",
              "      <td>25-34</td>\n",
              "      <td>25-34</td>\n",
              "    </tr>\n",
              "    <tr>\n",
              "      <th>1001</th>\n",
              "      <td>M</td>\n",
              "      <td>25</td>\n",
              "      <td>4</td>\n",
              "      <td>90210</td>\n",
              "      <td>college/grad student</td>\n",
              "      <td>25-34</td>\n",
              "      <td>25-34</td>\n",
              "    </tr>\n",
              "    <tr>\n",
              "      <th>...</th>\n",
              "      <td>...</td>\n",
              "      <td>...</td>\n",
              "      <td>...</td>\n",
              "      <td>...</td>\n",
              "      <td>...</td>\n",
              "      <td>...</td>\n",
              "      <td>...</td>\n",
              "    </tr>\n",
              "    <tr>\n",
              "      <th>995</th>\n",
              "      <td>F</td>\n",
              "      <td>18</td>\n",
              "      <td>4</td>\n",
              "      <td>96803</td>\n",
              "      <td>college/grad student</td>\n",
              "      <td>18-24</td>\n",
              "      <td>18-24</td>\n",
              "    </tr>\n",
              "    <tr>\n",
              "      <th>996</th>\n",
              "      <td>M</td>\n",
              "      <td>25</td>\n",
              "      <td>17</td>\n",
              "      <td>98102</td>\n",
              "      <td>technician/engineer</td>\n",
              "      <td>25-34</td>\n",
              "      <td>25-34</td>\n",
              "    </tr>\n",
              "    <tr>\n",
              "      <th>997</th>\n",
              "      <td>M</td>\n",
              "      <td>1</td>\n",
              "      <td>19</td>\n",
              "      <td>15748</td>\n",
              "      <td>unemployed</td>\n",
              "      <td>Under 18</td>\n",
              "      <td>Under 18</td>\n",
              "    </tr>\n",
              "    <tr>\n",
              "      <th>998</th>\n",
              "      <td>M</td>\n",
              "      <td>45</td>\n",
              "      <td>20</td>\n",
              "      <td>10019</td>\n",
              "      <td>writer</td>\n",
              "      <td>45-49</td>\n",
              "      <td>45-49</td>\n",
              "    </tr>\n",
              "    <tr>\n",
              "      <th>999</th>\n",
              "      <td>M</td>\n",
              "      <td>25</td>\n",
              "      <td>15</td>\n",
              "      <td>62558</td>\n",
              "      <td>scientist</td>\n",
              "      <td>25-34</td>\n",
              "      <td>25-34</td>\n",
              "    </tr>\n",
              "  </tbody>\n",
              "</table>\n",
              "<p>6040 rows × 7 columns</p>\n",
              "</div>"
            ],
            "text/plain": [
              "     gender age occupation     cp           description   range_x   range_y\n",
              "1         F   1         10  48067          K-12 student  Under 18  Under 18\n",
              "10        F  35          1  95370     academic/educator     35-44     35-44\n",
              "100       M  35         17  95401   technician/engineer     35-44     35-44\n",
              "1000      F  25          6  90027    doctor/health care     25-34     25-34\n",
              "1001      M  25          4  90210  college/grad student     25-34     25-34\n",
              "...     ...  ..        ...    ...                   ...       ...       ...\n",
              "995       F  18          4  96803  college/grad student     18-24     18-24\n",
              "996       M  25         17  98102   technician/engineer     25-34     25-34\n",
              "997       M   1         19  15748            unemployed  Under 18  Under 18\n",
              "998       M  45         20  10019                writer     45-49     45-49\n",
              "999       M  25         15  62558             scientist     25-34     25-34\n",
              "\n",
              "[6040 rows x 7 columns]"
            ]
          },
          "metadata": {
            "tags": []
          },
          "execution_count": 34
        }
      ]
    },
    {
      "cell_type": "markdown",
      "metadata": {
        "id": "JSaZ_mljwUQ-"
      },
      "source": [
        "Compara tus resultados con tus compañeros y tu experta para asegurarse de que todos tengan un conjunto similar que contenga toda la información requerida."
      ]
    },
    {
      "cell_type": "code",
      "metadata": {
        "id": "84-TCPo74Ehj"
      },
      "source": [
        ""
      ],
      "execution_count": null,
      "outputs": []
    }
  ]
}