{
  "nbformat": 4,
  "nbformat_minor": 0,
  "metadata": {
    "kernelspec": {
      "display_name": "Python 3",
      "language": "python",
      "name": "python3"
    },
    "language_info": {
      "codemirror_mode": {
        "name": "ipython",
        "version": 3
      },
      "file_extension": ".py",
      "mimetype": "text/x-python",
      "name": "python",
      "nbconvert_exporter": "python",
      "pygments_lexer": "ipython3",
      "version": "3.8.3"
    },
    "colab": {
      "name": "conectandose.ipynb",
      "provenance": [],
      "include_colab_link": true
    }
  },
  "cells": [
    {
      "cell_type": "markdown",
      "metadata": {
        "id": "view-in-github",
        "colab_type": "text"
      },
      "source": [
        "<a href=\"https://colab.research.google.com/github/sh4rkd/procesamiento_de_datos_con_python_fred_2021/blob/master/Sesion-08/Reto-01/conectandose.ipynb\" target=\"_parent\"><img src=\"https://colab.research.google.com/assets/colab-badge.svg\" alt=\"Open In Colab\"/></a>"
      ]
    },
    {
      "cell_type": "markdown",
      "metadata": {
        "id": "fwOawEQNlwxY"
      },
      "source": [
        "## Reto 1: Conectándose a una base de datos\n",
        "\n",
        "### 1. Objetivos:\n",
        "    - Practicar conectarse a una base de datos y revisar la conexión.\n",
        "    \n",
        "---\n",
        "    \n",
        "### 2. Desarrollo:"
      ]
    },
    {
      "cell_type": "markdown",
      "metadata": {
        "id": "wvV4Eq3Glwxa"
      },
      "source": [
        "#### a) Conectándose a MySQL\n",
        "\n",
        "Este primer Reto es muy sencillo: \n",
        "\n",
        "1. Pídele a tu experta los datos de conexión que necesitas para conectarte al SGBD que ha sido levantado para esta sesión.\n",
        "2. Si no lo has hecho ya, instala la librería `mysql-connector`.\n",
        "3. Conéctate a la base de datos usando `mysql-connector`.\n",
        "4. Revisa que estás conectado a la base de datos pidiendo los nombres de todas las tablas en la base de datos."
      ]
    },
    {
      "cell_type": "code",
      "metadata": {
        "id": "FeKyUazalwxb",
        "outputId": "1bc78ed7-1200-4d2b-baf3-661621656811",
        "colab": {
          "base_uri": "https://localhost:8080/"
        }
      },
      "source": [
        "!pip install mysql-connector-python\n",
        "import mysql.connector\n",
        "\n",
        "cnx = mysql.connector.connect(\n",
        "    host = \"ec2-54-68-68-97.us-west-2.compute.amazonaws.com\",\n",
        "    port = 3306,\n",
        "    user = \"data\",\n",
        "    password = \"khQ9--mp6LWq97iA\",\n",
        "    database = \"movielens\"\n",
        ")\n"
      ],
      "execution_count": 2,
      "outputs": [
        {
          "output_type": "stream",
          "text": [
            "Collecting mysql-connector-python\n",
            "  Downloading mysql_connector_python-8.0.26-cp37-cp37m-manylinux1_x86_64.whl (30.9 MB)\n",
            "\u001b[K     |████████████████████████████████| 30.9 MB 79 kB/s \n",
            "\u001b[?25hRequirement already satisfied: protobuf>=3.0.0 in /usr/local/lib/python3.7/dist-packages (from mysql-connector-python) (3.17.3)\n",
            "Requirement already satisfied: six>=1.9 in /usr/local/lib/python3.7/dist-packages (from protobuf>=3.0.0->mysql-connector-python) (1.15.0)\n",
            "Installing collected packages: mysql-connector-python\n",
            "Successfully installed mysql-connector-python-8.0.26\n"
          ],
          "name": "stdout"
        }
      ]
    },
    {
      "cell_type": "code",
      "metadata": {
        "id": "2YX4SX5Xlwxc",
        "outputId": "31766199-6d8b-43d8-e61a-b8132b87cf2a",
        "colab": {
          "base_uri": "https://localhost:8080/"
        }
      },
      "source": [
        "cursor = cnx.cursor()\n",
        "cursor.execute(\"SHOW TABLES\")\n",
        "result = cursor.fetchall()\n",
        "result"
      ],
      "execution_count": 3,
      "outputs": [
        {
          "output_type": "execute_result",
          "data": {
            "text/plain": [
              "[('age_ranges',), ('movies',), ('occupations',), ('ratings',), ('users',)]"
            ]
          },
          "metadata": {
            "tags": []
          },
          "execution_count": 3
        }
      ]
    },
    {
      "cell_type": "code",
      "metadata": {
        "id": "zIBr-a63oCXc",
        "outputId": "852bc17a-8058-437b-a412-605c7549b6e0",
        "colab": {
          "base_uri": "https://localhost:8080/"
        }
      },
      "source": [
        "cursor.close()"
      ],
      "execution_count": 4,
      "outputs": [
        {
          "output_type": "execute_result",
          "data": {
            "text/plain": [
              "True"
            ]
          },
          "metadata": {
            "tags": []
          },
          "execution_count": 4
        }
      ]
    },
    {
      "cell_type": "markdown",
      "metadata": {
        "id": "SunjJWTHlwxc"
      },
      "source": [
        "Asegúrate de que tu conexión esté funcionando. Cualquier duda que tengas, la puedes expresar a tu experta. Es muy importante que te conectes exitosamente para poder realizar todos los Retos siguientes."
      ]
    }
  ]
}