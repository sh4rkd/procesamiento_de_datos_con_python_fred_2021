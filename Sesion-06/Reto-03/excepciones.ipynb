{
  "nbformat": 4,
  "nbformat_minor": 0,
  "metadata": {
    "kernelspec": {
      "display_name": "Python 3",
      "language": "python",
      "name": "python3"
    },
    "language_info": {
      "codemirror_mode": {
        "name": "ipython",
        "version": 3
      },
      "file_extension": ".py",
      "mimetype": "text/x-python",
      "name": "python",
      "nbconvert_exporter": "python",
      "pygments_lexer": "ipython3",
      "version": "3.8.3"
    },
    "colab": {
      "name": "excepciones.ipynb",
      "provenance": [],
      "include_colab_link": true
    }
  },
  "cells": [
    {
      "cell_type": "markdown",
      "metadata": {
        "id": "view-in-github",
        "colab_type": "text"
      },
      "source": [
        "<a href=\"https://colab.research.google.com/github/sh4rkd/procesamiento_de_datos_con_python_fred_2021/blob/master/Sesion-06/Reto-03/excepciones.ipynb\" target=\"_parent\"><img src=\"https://colab.research.google.com/assets/colab-badge.svg\" alt=\"Open In Colab\"/></a>"
      ]
    },
    {
      "cell_type": "markdown",
      "metadata": {
        "id": "UbZ_Thu98jTn"
      },
      "source": [
        "## Reto 3: Evitando errores con try except\n",
        "\n",
        "### 1. Objetivos:\n",
        "    - Usar una estructura try except para evitar que una función lance un error\n",
        " \n",
        "---\n",
        "    \n",
        "### 2. Desarrollo:"
      ]
    },
    {
      "cell_type": "markdown",
      "metadata": {
        "id": "YCOwXXIz8jTp"
      },
      "source": [
        "### a) Evitando errores al hacer conversión de tipos de dato\n",
        "\n",
        "La conversión de tipos de dato (data casting) es una de las labores más importantes de un procesador de datos. A veces tenemos datos que deberían de tener un tipo de dato pero que tienen otro. Vamos a imaginar que tenemos un sistema donde recibimos input de un usuario. Este input son números que están representados como strings, como por ejemplo:\n",
        "\n",
        "- \"1.5\"\n",
        "- \"4\"\n",
        "- \"100.23\"\n",
        "- \"134.99\"\n",
        "\n",
        "Nosotros queremos guardar esos datos como `float`, no como `string` y por lo tanto vamos a crear una función que convierta una `lista` de `strings` en una `lista` de `float`. El problema es que a veces, el usuario envía inputs que no son números representados como `strings`, sino otro tipo de caracteres, como:\n",
        "\n",
        "- \"a\"\n",
        "- \"fgwe\"\n",
        "- \"4r5t\"\n",
        "- \"#!\"\n",
        "\n",
        "Esos caracteres no los podemos convertir en `float` y por lo tanto vamos a sustituirlos por un `NaN` de `numpy` (`np.nan`). Tu reto es el siguiente:\n",
        "\n",
        "1. Completa la función debajo que recibe una `lista` de `strings` y regresa una `lista` de `floats`.\n",
        "2. Usa un `for loop` para iterar por la `lista` de `strings` y convertir uno por uno los valores a `float` (puedes leer cómo hacer eso [aquí](http://lineadecodigo.com/python/iterar-una-lista-en-python/) y [aquí](https://es.stackoverflow.com/questions/49194/c%C3%B3mo-convertir-un-tipo-string-a-float-o-int))\n",
        "3. Los resultados exitosos de la conversión guárdalos en una la `lista` `lista_de_floats` que es lo que regresa la función.\n",
        "4. Agrega una estructura `try except` para evitar errores cuando la conversión no sea posible y para agregar un `np.nan` a `lista_de_floats` en caso de que la conversión haya fallado."
      ]
    },
    {
      "cell_type": "code",
      "metadata": {
        "id": "8aj9rZJS8jTq"
      },
      "source": [
        "import numpy as np\n",
        "def lista_de_strings_a_lista_de_floats(lista_de_strings):\n",
        "    \n",
        "    lista_de_floats = []\n",
        "    for i in lista_de_strings:\n",
        "      try:\n",
        "        lista_de_floats.append(float(i))\n",
        "      except:\n",
        "        lista_de_floats.append(np.nan)\n",
        "    ## Tú código va aquí\n",
        "    ## ...\n",
        "    ## ...\n",
        "        \n",
        "    return lista_de_floats"
      ],
      "execution_count": 6,
      "outputs": []
    },
    {
      "cell_type": "markdown",
      "metadata": {
        "id": "n1Ml7TqK8jTq"
      },
      "source": [
        "Pídele a tu experta la función de verificación `test_lista_de_strings_a_lista_de_floats` (encontrada en el archivo `helpers.py` de la carpeta donde se encuentra este Reto), pégala debajo y corre la celda para verificar tu resultado:"
      ]
    },
    {
      "cell_type": "code",
      "metadata": {
        "id": "CYDa1-Sk8jTr",
        "outputId": "fd1cf72f-afb6-46a8-e846-0b28fb2ff44f",
        "colab": {
          "base_uri": "https://localhost:8080/"
        }
      },
      "source": [
        "# Pega aquí la función de verificación\n",
        "def test_lista_de_strings_a_lista_de_floats(lista_de_strings_a_lista_de_floats):\n",
        "    \n",
        "    import numpy as np\n",
        "    \n",
        "    errores = 0\n",
        "    \n",
        "    lista_1_original = ['1', '2', '3', '4', '5']\n",
        "    lista_1_esperada = [1.0, 2.0, 3.0, 4.0, 5.0]\n",
        "    lista_1_obtenida = lista_de_strings_a_lista_de_floats(lista_1_original)\n",
        "    if lista_1_obtenida != lista_1_esperada:\n",
        "        print(f'Error!\\n')\n",
        "        print(f'- Lista original: {lista_1_original}')\n",
        "        print(f'- Lista esperada: {lista_1_esperada}')\n",
        "        print(f'- Lista recibida: {lista_1_obtenida}')\n",
        "        print('\\n')\n",
        "        errores += 1\n",
        "        \n",
        "    lista_2_original = []\n",
        "    lista_2_esperada = []\n",
        "    lista_2_obtenida = lista_de_strings_a_lista_de_floats(lista_2_original)\n",
        "    if lista_2_obtenida != lista_2_esperada:\n",
        "        print(f'Error!\\n')\n",
        "        print(f'- Lista original: {lista_2_original}')\n",
        "        print(f'- Lista esperada: {lista_2_esperada}')\n",
        "        print(f'- Lista recibida: {lista_2_obtenida}')\n",
        "        print('\\n')\n",
        "        errores += 1\n",
        "        \n",
        "    lista_3_original = ['1.2', '33', '55.5', 'f', '78']\n",
        "    lista_3_esperada = [1.2, 33.0, 55.5, np.nan, 78.0]\n",
        "    lista_3_obtenida = lista_de_strings_a_lista_de_floats(lista_3_original)\n",
        "    if lista_3_obtenida != lista_3_esperada:\n",
        "        print(f'Error!\\n')\n",
        "        print(f'- Lista original: {lista_3_original}')\n",
        "        print(f'- Lista esperada: {lista_3_esperada}')\n",
        "        print(f'- Lista recibida: {lista_3_obtenida}')\n",
        "        print('\\n')\n",
        "        errores += 1\n",
        "        \n",
        "    lista_4_original = ['f', 'g', 't', 'e', 'r']\n",
        "    lista_4_esperada = [np.nan, np.nan, np.nan, np.nan, np.nan]\n",
        "    lista_4_obtenida = lista_de_strings_a_lista_de_floats(lista_4_original)\n",
        "    if lista_4_obtenida != lista_4_esperada:\n",
        "        print(f'Error!\\n')\n",
        "        print(f'- Lista original: {lista_4_original}')\n",
        "        print(f'- Lista esperada: {lista_4_esperada}')\n",
        "        print(f'- Lista recibida: {lista_4_obtenida}')\n",
        "        print('\\n')\n",
        "        errores += 1\n",
        "        \n",
        "    lista_5_original = ['f', '4.4', 't', '6.6', 'r', '9.9']\n",
        "    lista_5_esperada = [np.nan, 4.4, np.nan, 6.6, np.nan, 9.9]\n",
        "    lista_5_obtenida = lista_de_strings_a_lista_de_floats(lista_5_original)\n",
        "    if lista_5_obtenida != lista_5_esperada:\n",
        "        print(f'Error!\\n')\n",
        "        print(f'- Lista original: {lista_5_original}')\n",
        "        print(f'- Lista esperada: {lista_5_esperada}')\n",
        "        print(f'- Lista recibida: {lista_5_obtenida}')\n",
        "        print('\\n')\n",
        "        errores += 1\n",
        "        \n",
        "    if errores > 0:\n",
        "        return\n",
        "    \n",
        "    print(f'Todo funciona correctamente!')\n",
        "\n",
        "test_lista_de_strings_a_lista_de_floats(lista_de_strings_a_lista_de_floats)"
      ],
      "execution_count": 7,
      "outputs": [
        {
          "output_type": "stream",
          "text": [
            "Todo funciona correctamente!\n"
          ],
          "name": "stdout"
        }
      ]
    },
    {
      "cell_type": "code",
      "metadata": {
        "id": "d5eEXpRR8jTr"
      },
      "source": [
        ""
      ],
      "execution_count": null,
      "outputs": []
    }
  ]
}