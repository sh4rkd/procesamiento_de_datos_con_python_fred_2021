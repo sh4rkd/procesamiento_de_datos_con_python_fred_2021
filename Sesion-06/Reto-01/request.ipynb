{
  "nbformat": 4,
  "nbformat_minor": 0,
  "metadata": {
    "kernelspec": {
      "display_name": "Python 3",
      "language": "python",
      "name": "python3"
    },
    "language_info": {
      "codemirror_mode": {
        "name": "ipython",
        "version": 3
      },
      "file_extension": ".py",
      "mimetype": "text/x-python",
      "name": "python",
      "nbconvert_exporter": "python",
      "pygments_lexer": "ipython3",
      "version": "3.8.3"
    },
    "colab": {
      "name": "request.ipynb",
      "provenance": [],
      "include_colab_link": true
    }
  },
  "cells": [
    {
      "cell_type": "markdown",
      "metadata": {
        "id": "view-in-github",
        "colab_type": "text"
      },
      "source": [
        "<a href=\"https://colab.research.google.com/github/sh4rkd/procesamiento_de_datos_con_python_fred_2021/blob/master/Sesion-06/Reto-01/request.ipynb\" target=\"_parent\"><img src=\"https://colab.research.google.com/assets/colab-badge.svg\" alt=\"Open In Colab\"/></a>"
      ]
    },
    {
      "cell_type": "markdown",
      "metadata": {
        "id": "hqlsJhZyk_rZ"
      },
      "source": [
        "## Reto 1: Peticiones a una API usando requests\n",
        "\n",
        "### 1. Objetivos:\n",
        "    - Usar la librería Requests para hacer una petición HTTP a una API\n",
        " \n",
        "---\n",
        "    \n",
        "### 2. Desarrollo:"
      ]
    },
    {
      "cell_type": "markdown",
      "metadata": {
        "id": "uFSPot9Kk_rb"
      },
      "source": [
        "### a) Petición HTTP a API de NASA\n",
        "\n",
        "Vamos a implementar un programa que realice una llamada HTTP a la API de NASA.\n",
        "\n",
        "Puedes leer la documentación de la API [aquí](https://api.nasa.gov/), bajo el título de \"Asteroids NeoWs\"."
      ]
    },
    {
      "cell_type": "code",
      "metadata": {
        "id": "ETX4CnpYk_rc"
      },
      "source": [
        "import requests as rq\n",
        "import pandas as pd"
      ],
      "execution_count": 3,
      "outputs": []
    },
    {
      "cell_type": "markdown",
      "metadata": {
        "id": "OIlmO5R1k_rc"
      },
      "source": [
        "Tu reto consiste en los siguientes pasos:\n",
        "\n",
        "1. Crea una cuenta en el API de NASA para obtener tu propia API Key. Copia la API Key en la celda debajo para que no la pierdas:"
      ]
    },
    {
      "cell_type": "code",
      "metadata": {
        "id": "pH3AtvKzk_rc"
      },
      "source": [
        "api_key = \"hUG9URFv3s9H5deOGU3tdycDoO2YgCOPnZMEuzl9\""
      ],
      "execution_count": 5,
      "outputs": []
    },
    {
      "cell_type": "markdown",
      "metadata": {
        "id": "ZZK4LCZbk_rd"
      },
      "source": [
        "2. Asigna la variable `endpoint` -donde tendrás el URL base de la API de NASA- y la variable `payload` -donde tendrás el diccionario que usarás para pasar parámetros a tu petición.\n",
        "\n",
        "3. Usa tu diccionario `payload` para agregar los parámetros necesarios para pedir la hoja número 100 de la API. Durante el ejemplo, pedimos simplemente la primera hoja. En esta ocasión, debes de descubrir que parámetros requieres pasarle para obtener la hoja #100. Además queremos que el número de resultados que nos regresen sea menor al default. El default es 20, pero tú tienes que mandar los parámetros adecuados para que te regresen solamente 5 resultados"
      ]
    },
    {
      "cell_type": "code",
      "metadata": {
        "id": "uD0zmM3nk_rd"
      },
      "source": [
        "endpoint = 'https://api.nasa.gov/neo/rest/v1/neo/browse/'\n",
        "payload = payload = {'api_key': api_key}"
      ],
      "execution_count": 6,
      "outputs": []
    },
    {
      "cell_type": "markdown",
      "metadata": {
        "id": "1ICgk7Oak_rd"
      },
      "source": [
        "4. Realiza tu petición HTTP aquí debajo y checa tu código de respuesta para asegurarte de que la petición se haya hecho exitosamente:"
      ]
    },
    {
      "cell_type": "code",
      "metadata": {
        "id": "aF0EwxPIk_re",
        "outputId": "ad08b8c6-a3fd-40db-c753-40e11538635d",
        "colab": {
          "base_uri": "https://localhost:8080/"
        }
      },
      "source": [
        "r = rq.get(endpoint, params=payload)\n",
        "r.status_code"
      ],
      "execution_count": 8,
      "outputs": [
        {
          "output_type": "execute_result",
          "data": {
            "text/plain": [
              "200"
            ]
          },
          "metadata": {
            "tags": []
          },
          "execution_count": 8
        }
      ]
    },
    {
      "cell_type": "markdown",
      "metadata": {
        "id": "PWNnx7iqk_re"
      },
      "source": [
        "5. Si todo ha salido bien, extrae tus datos, normalízalos, crea un `DataFrame` con ellos y asígnalo a `objetos`. Revisa que solamente tengas 5 filas, para saber que tu petición se realizó exitosamente:"
      ]
    },
    {
      "cell_type": "code",
      "metadata": {
        "id": "vlvUakimk_re"
      },
      "source": [
        "json = r.json()\n",
        "data = json['near_earth_objects']\n",
        "normalized = pd.json_normalize(data)\n",
        "objetos = pd.DataFrame.from_dict(normalized)"
      ],
      "execution_count": 15,
      "outputs": []
    },
    {
      "cell_type": "markdown",
      "metadata": {
        "id": "G5Cutkz6k_rf"
      },
      "source": [
        "6. Pídele a tu experta la función de verificación `visualizar_diametros` (encontrada en el archivo `helpers.py` de la carpeta donde se encuentra este Reto), pégala debajo y corre la celda para verificar tu resultado:"
      ]
    },
    {
      "cell_type": "code",
      "metadata": {
        "id": "5cYHo-Fjk_rf",
        "outputId": "343feb2c-4b70-4373-f3df-5954a50b1532",
        "colab": {
          "base_uri": "https://localhost:8080/",
          "height": 371
        }
      },
      "source": [
        "# Pega aquí la función de verificación\n",
        "def visualizar_diametros(objetos):\n",
        "    \n",
        "    import seaborn as sns\n",
        "    \n",
        "    sizes = objetos[['name', 'estimated_diameter.kilometers.estimated_diameter_max']].copy()\n",
        "    sizes.sort_values('estimated_diameter.kilometers.estimated_diameter_max', ascending=True, inplace=True)\n",
        "    sns.barplot(sizes['name'], sizes['estimated_diameter.kilometers.estimated_diameter_max'])\n",
        "\n",
        "visualizar_diametros(objetos)"
      ],
      "execution_count": 16,
      "outputs": [
        {
          "output_type": "stream",
          "text": [
            "/usr/local/lib/python3.7/dist-packages/seaborn/_decorators.py:43: FutureWarning: Pass the following variables as keyword args: x, y. From version 0.12, the only valid positional argument will be `data`, and passing other arguments without an explicit keyword will result in an error or misinterpretation.\n",
            "  FutureWarning\n"
          ],
          "name": "stderr"
        },
        {
          "output_type": "display_data",
          "data": {
            "image/png": "[encoded data removed]",
            "text/plain": [
              "<Figure size 432x288 with 1 Axes>"
            ]
          },
          "metadata": {
            "tags": [],
            "needs_background": "light"
          }
        }
      ]
    },
    {
      "cell_type": "code",
      "metadata": {
        "id": "YFM2hLMtk_rf"
      },
      "source": [
        ""
      ],
      "execution_count": null,
      "outputs": []
    }
  ]
}