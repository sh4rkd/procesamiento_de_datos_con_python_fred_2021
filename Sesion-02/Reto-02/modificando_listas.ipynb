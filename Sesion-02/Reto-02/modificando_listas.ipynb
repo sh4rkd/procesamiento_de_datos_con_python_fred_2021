{
  "nbformat": 4,
  "nbformat_minor": 0,
  "metadata": {
    "kernelspec": {
      "display_name": "Python 3",
      "language": "python",
      "name": "python3"
    },
    "language_info": {
      "codemirror_mode": {
        "name": "ipython",
        "version": 3
      },
      "file_extension": ".py",
      "mimetype": "text/x-python",
      "name": "python",
      "nbconvert_exporter": "python",
      "pygments_lexer": "ipython3",
      "version": "3.8.3"
    },
    "colab": {
      "name": "modificando_listas.ipynb",
      "provenance": [],
      "include_colab_link": true
    }
  },
  "cells": [
    {
      "cell_type": "markdown",
      "metadata": {
        "id": "view-in-github",
        "colab_type": "text"
      },
      "source": [
        "<a href=\"https://colab.research.google.com/github/sh4rkd/procesamiento_de_datos_con_python_fred_2021/blob/master/Sesion-02/Reto-02/modificando_listas.ipynb\" target=\"_parent\"><img src=\"https://colab.research.google.com/assets/colab-badge.svg\" alt=\"Open In Colab\"/></a>"
      ]
    },
    {
      "cell_type": "markdown",
      "metadata": {
        "id": "vKf3VOS5h5-V"
      },
      "source": [
        "## Reto 2: Modificando listas\n",
        "\n",
        "### 1. Objetivos:\n",
        "    - Practicar el uso de los métodos `append` `pop`.\n",
        " \n",
        "---\n",
        "    \n",
        "### 2. Desarrollo:"
      ]
    },
    {
      "cell_type": "markdown",
      "metadata": {
        "id": "JSWBRMkrh5-X"
      },
      "source": [
        "#### a) Modificar para eliminar diferencias\n",
        "\n",
        "Debajo tienes dos listas definidas:"
      ]
    },
    {
      "cell_type": "code",
      "metadata": {
        "id": "gcyjOImLh5-X",
        "outputId": "ef13f4b6-7ad3-47b7-a563-3946731203d4",
        "colab": {
          "base_uri": "https://localhost:8080/"
        }
      },
      "source": [
        "lista_1 = [3.4, 0.7, 99.9, 5.41, 6.23, 7.9]\n",
        "\n",
        "lista_2 = [3.4, 63.4, 0.7, 6.46, 99.9, 2.2, 5.41]\n",
        "\n",
        "lista_2.pop(1)\n",
        "lista_2.pop(2)\n",
        "lista_2.pop(3)\n",
        "lista_2.append(6.23)\n",
        "lista_2.append(7.9)\n",
        "lista_2"
      ],
      "execution_count": 8,
      "outputs": [
        {
          "output_type": "execute_result",
          "data": {
            "text/plain": [
              "[3.4, 0.7, 99.9, 5.41, 6.23, 7.9]"
            ]
          },
          "metadata": {
            "tags": []
          },
          "execution_count": 8
        }
      ]
    },
    {
      "cell_type": "markdown",
      "metadata": {
        "id": "nkSNLvYuh5-Y"
      },
      "source": [
        "Ahora, tienes una `sentencia if` que utiliza una comparación entre las dos listas:"
      ]
    },
    {
      "cell_type": "code",
      "metadata": {
        "id": "06bf-AI5h5-Y",
        "outputId": "65c405a6-cad4-48ea-982b-d57599df48cf",
        "colab": {
          "base_uri": "https://localhost:8080/"
        }
      },
      "source": [
        "if lista_1 == lista_2:\n",
        "    print(\"Tú y yo somos uno mismo\")"
      ],
      "execution_count": 10,
      "outputs": [
        {
          "output_type": "stream",
          "text": [
            "Tú y yo somos uno mismo\n"
          ],
          "name": "stdout"
        }
      ]
    },
    {
      "cell_type": "markdown",
      "metadata": {
        "id": "KS7zFv7Oh5-Y"
      },
      "source": [
        "Donde dice `tu código va aquí` agrega modificaciones a la **lista_2** para lograr que ambas listas sean idénticas y el bello mensaje \"Tú y yo somos uno mismo\" se imprima. Puedes usar tanto `pop` como `append`, pero **sólo puedes modificar la lista_2**."
      ]
    },
    {
      "cell_type": "markdown",
      "metadata": {
        "id": "bIA3k1UKh5-Z"
      },
      "source": [
        "#### b) Corrigiendo fragmentos\n",
        "\n",
        "Debajo hay un muy pequeño fragmento del capítulo 68 de la novela \"Rayuela\" de Julio Cortázar ([Lo puedes leer aquí](https://ciudadseva.com/texto/rayuela-capitulo-68/)). Este fragmento ha sido modificado, como fácilmente podrás ver. Además, el fragmento termina con un oración inconclusa:"
      ]
    },
    {
      "cell_type": "code",
      "metadata": {
        "id": "9jiLFdeRh5-Z",
        "outputId": "6b4a9eb0-0669-4601-c502-2c77448a0e4b",
        "colab": {
          "base_uri": "https://localhost:8080/"
        }
      },
      "source": [
        "fragmento_fragmentado = ['Apenas', 'él', 'le', 'amalaba', 'hidrolizado' 'el', 'noema,',\n",
        "                         'a', 'ella', 'se', 'le', 'agolpaba', 'el', 'clémiso', 'súbito',\n",
        "                         'y', 'caían', 'en', 'fermales', 'hidromurias,', 'en', 'salvajes', 'ambonios,',\n",
        "                         'en', 'sustalos', 'distales', 'exasperantes.',\n",
        "                         'Cada', 'vez', 'que', 'él', 'procuraba', 'relamar', 'las', 'incopelusas,']\n",
        "\n",
        "print(f\"{fragmento_fragmentado[0]} {fragmento_fragmentado[1]} {fragmento_fragmentado[2]} {fragmento_fragmentado[3]} {fragmento_fragmentado[4]} {fragmento_fragmentado[5]}\")"
      ],
      "execution_count": 14,
      "outputs": [
        {
          "output_type": "stream",
          "text": [
            "Apenas él le amalaba hidrolizadoel noema,\n"
          ],
          "name": "stdout"
        }
      ]
    },
    {
      "cell_type": "markdown",
      "metadata": {
        "id": "ym76oNIUh5-a"
      },
      "source": [
        "Debajo hay código que toma la lista de arriba e imprime el fragmento en forma de texto. Tu reto es eliminar todas las modificaciones que han sido hechas al texto de Cortázar usando el método `pop`. Al terminar, puedes, si así lo deseas, agregar tu propio final a la oración inconclusa usando el método `append`.\n",
        "\n",
        "El resultado será una colaboración tuya y de Cortázar:"
      ]
    },
    {
      "cell_type": "code",
      "metadata": {
        "id": "G-ze4bfvh5-a",
        "outputId": "dd4f7f5a-5189-4a93-ef47-d464045d34bd",
        "colab": {
          "base_uri": "https://localhost:8080/"
        }
      },
      "source": [
        "tu_nombre = \"Fred\"  # Tu nombre va aquí\n",
        "\n",
        "print(f'==Colaboración póstuma de Córtazar y {tu_nombre}==\\n')\n",
        "print(f'{\" Pinguinos \".join(fragmento_fragmentado)}')"
      ],
      "execution_count": 18,
      "outputs": [
        {
          "output_type": "stream",
          "text": [
            "==Colaboración póstuma de Córtazar y Fred==\n",
            "\n",
            "Apenas Pinguinos él Pinguinos le Pinguinos amalaba Pinguinos hidrolizadoel Pinguinos noema, Pinguinos a Pinguinos ella Pinguinos se Pinguinos le Pinguinos agolpaba Pinguinos el Pinguinos clémiso Pinguinos súbito Pinguinos y Pinguinos caían Pinguinos en Pinguinos fermales Pinguinos hidromurias, Pinguinos en Pinguinos salvajes Pinguinos ambonios, Pinguinos en Pinguinos sustalos Pinguinos distales Pinguinos exasperantes. Pinguinos Cada Pinguinos vez Pinguinos que Pinguinos él Pinguinos procuraba Pinguinos relamar Pinguinos las Pinguinos incopelusas,\n"
          ],
          "name": "stdout"
        }
      ]
    },
    {
      "cell_type": "code",
      "metadata": {
        "id": "Ad_t4mLmh5-b"
      },
      "source": [
        ""
      ],
      "execution_count": null,
      "outputs": []
    }
  ]
}