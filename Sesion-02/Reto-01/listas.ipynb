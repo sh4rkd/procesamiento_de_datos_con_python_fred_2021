{
  "nbformat": 4,
  "nbformat_minor": 0,
  "metadata": {
    "kernelspec": {
      "display_name": "Python 3",
      "language": "python",
      "name": "python3"
    },
    "language_info": {
      "codemirror_mode": {
        "name": "ipython",
        "version": 3
      },
      "file_extension": ".py",
      "mimetype": "text/x-python",
      "name": "python",
      "nbconvert_exporter": "python",
      "pygments_lexer": "ipython3",
      "version": "3.8.3"
    },
    "colab": {
      "name": "listas.ipynb",
      "provenance": [],
      "include_colab_link": true
    }
  },
  "cells": [
    {
      "cell_type": "markdown",
      "metadata": {
        "id": "view-in-github",
        "colab_type": "text"
      },
      "source": [
        "<a href=\"https://colab.research.google.com/github/sh4rkd/procesamiento_de_datos_con_python_fred_2021/blob/master/Sesion-02/Reto-01/listas.ipynb\" target=\"_parent\"><img src=\"https://colab.research.google.com/assets/colab-badge.svg\" alt=\"Open In Colab\"/></a>"
      ]
    },
    {
      "cell_type": "markdown",
      "metadata": {
        "id": "4Lf1p78OdmbZ"
      },
      "source": [
        "## Reto 1: Creando listas y accediendo a ellas\n",
        "\n",
        "### 1. Objetivos:\n",
        "    - Practicar crear listas con valores crudos y variables\n",
        "    - Practicar acceder a listas usando índices\n",
        " \n",
        "---\n",
        "    \n",
        "### 2. Desarrollo:"
      ]
    },
    {
      "cell_type": "markdown",
      "metadata": {
        "id": "JPIXMDRvdmbb"
      },
      "source": [
        "#### a) Definiendo una lista\n",
        "\n",
        "Debajo de esta celda hay un nombre de una variable que aún no ha sido asignada:"
      ]
    },
    {
      "cell_type": "code",
      "metadata": {
        "id": "BgB6-UuNdmbc"
      },
      "source": [
        "mi_informacion = [\"Fred Jiordi\",\"Shu papi muñeño\",\"boneless mango habanero\",\"sopa fria >:c\",\"algo con machine learning :')\"]"
      ],
      "execution_count": 1,
      "outputs": []
    },
    {
      "cell_type": "markdown",
      "metadata": {
        "id": "1NcdhUGKdmbc"
      },
      "source": [
        "Ahora, tenemos un `print` que imprime una string formateada para mostrar cierta información acerca de ti (Las triples comillas `'''` nos sirven para generar strings de varias líneas):"
      ]
    },
    {
      "cell_type": "code",
      "metadata": {
        "id": "_C-8B0C7dmbd",
        "outputId": "60e15653-d4af-4614-d56b-29d76d2bf3df",
        "colab": {
          "base_uri": "https://localhost:8080/"
        }
      },
      "source": [
        "print(f'''\n",
        "¡Hola! Mi nombre es {mi_informacion[0]}. Todos me dicen {mi_informacion[1]}.\n",
        "Mi comida favorita es {mi_informacion[2]}. Y la comida que más detesto es {mi_informacion[3]}.\n",
        "Mi trabajo ideal sería {mi_informacion[4]}.\n",
        "¡Gracias, chau!\n",
        "''')"
      ],
      "execution_count": 2,
      "outputs": [
        {
          "output_type": "stream",
          "text": [
            "\n",
            "¡Hola! Mi nombre es Fred Jiordi. Todos me dicen Shu papi muñeño.\n",
            "Mi comida favorita es boneless mango habanero. Y la comida que más detesto es sopa fria >:c.\n",
            "Mi trabajo ideal sería algo con machine learning :').\n",
            "¡Gracias, chau!\n",
            "\n"
          ],
          "name": "stdout"
        }
      ]
    },
    {
      "cell_type": "markdown",
      "metadata": {
        "id": "-_2XO0bxdmbd"
      },
      "source": [
        "Para que esta string funcione, asigna una lista a la variable `mi_informacion` con toda la información necesaria para imprimir tu micro-bio debajo de la celda."
      ]
    },
    {
      "cell_type": "markdown",
      "metadata": {
        "id": "iKXimOwqdmbd"
      },
      "source": [
        "#### b) Una lista construida con variables \n",
        "\n",
        "Debajo de esta celda vemos los nombres de varias variables y una lista que las contiene."
      ]
    },
    {
      "cell_type": "code",
      "metadata": {
        "id": "KPXmPqakdmbe"
      },
      "source": [
        "info_0 = \"patos\"\n",
        "info_1 = \"conquistar el mundo\"\n",
        "info_2 = \"bailaran\"\n",
        "info_3 = \"arrodillarse\"\n",
        "info_4 = \"bailare mambo\"\n",
        "\n",
        "info_faltante = [info_0, info_1, info_2, info_3, info_4]"
      ],
      "execution_count": 10,
      "outputs": []
    },
    {
      "cell_type": "markdown",
      "metadata": {
        "id": "vdnJ5GkQdmbe"
      },
      "source": [
        "Ahora, tenemos un `print` que imprime una pequeña historia utilizando la lista `info_faltante` que contiene a las demás variables:"
      ]
    },
    {
      "cell_type": "code",
      "metadata": {
        "id": "xvMkZUw-dmbf",
        "outputId": "47993b90-7733-4cb2-94c8-43002d300c2c",
        "colab": {
          "base_uri": "https://localhost:8080/"
        }
      },
      "source": [
        "print(f'''\n",
        "Algún día los {info_faltante[0]} lograrán su objetivo. Su objetivo de {info_faltante[1]}.\n",
        "Ese día, los humanos {info_faltante[2]} y tendrán que {info_faltante[3]}.\n",
        "Por esa razón yo todos los días {info_faltante[4]}.\n",
        "''')"
      ],
      "execution_count": 11,
      "outputs": [
        {
          "output_type": "stream",
          "text": [
            "\n",
            "Algún día los patos lograrán su objetivo. Su objetivo de conquistar el mundo.\n",
            "Ese día, los humanos bailaran y tendrán que arrodillarse.\n",
            "Por esa razón yo todos los días bailare mambo.\n",
            "\n"
          ],
          "name": "stdout"
        }
      ]
    },
    {
      "cell_type": "markdown",
      "metadata": {
        "id": "fyhUaxQldmbf"
      },
      "source": [
        "Tu reto será asignar las variables `info_x` con la información que desees para crear una historia a tu gusto. Cada variable puede contener una string que tenga varias palabras (frases, pues). Si te dan ganas, ¡comparte la historia con tus compañeros!"
      ]
    },
    {
      "cell_type": "markdown",
      "metadata": {
        "id": "xGh7fgbbdmbf"
      },
      "source": [
        "#### c) Practicando el operador de indexación \n",
        "\n",
        "Debajo de esta celda hay una lista con números dentro:"
      ]
    },
    {
      "cell_type": "code",
      "metadata": {
        "id": "9LQv-2Oxdmbg"
      },
      "source": [
        "respuestas = [0.58, 9, 2, 3, 37, 5, 75, 4]"
      ],
      "execution_count": 12,
      "outputs": []
    },
    {
      "cell_type": "markdown",
      "metadata": {
        "id": "pki94HR6dmbg"
      },
      "source": [
        "Ahora, tenemos un `print` con una string interpolada. Como puedes ver todas las interpolaciones están vacías:"
      ]
    },
    {
      "cell_type": "code",
      "metadata": {
        "id": "6n11HDQ5dmbg",
        "outputId": "c22ce689-9180-463f-8e73-59341356e368",
        "colab": {
          "base_uri": "https://localhost:8080/"
        }
      },
      "source": [
        "print(f'''\n",
        "1. Los humanos tenemos {respuestas[2]} ojos en la cara.\n",
        "2. Un humano adulto tiene {respuestas[-4]-respuestas[-3]} dientes dentro de su boca.\n",
        "3. Un feto tarda {respuestas[1]} meses en gestarse antes de nacer.\n",
        "4. La expectativa de vida en México es de alrededor de {respuestas[6]} años.\n",
        "5. Las horas de sueño al día recomendadas para adultos jóvenes son entre {respuestas[-1]} y {respuestas[1]}.\n",
        "6. El récord actual de velocidad en 100 metros (09/05/2020) fue establecido por Usain Bolt y es de {respuestas[1]}\n",
        "''')"
      ],
      "execution_count": 15,
      "outputs": [
        {
          "output_type": "stream",
          "text": [
            "\n",
            "1. Los humanos tenemos 2 ojos en la cara.\n",
            "2. Un humano adulto tiene 32 dientes dentro de su boca.\n",
            "3. Un feto tarda 9 meses en gestarse antes de nacer.\n",
            "4. La expectativa de vida en México es de alrededor de 75 años.\n",
            "5. Las horas de sueño al día recomendadas para adultos jóvenes son entre 4 y 9.\n",
            "6. El récord actual de velocidad en 100 metros (09/05/2020) fue establecido por Usain Bolt y es de 9\n",
            "\n"
          ],
          "name": "stdout"
        }
      ]
    },
    {
      "cell_type": "markdown",
      "metadata": {
        "id": "_Xw_2szedmbh"
      },
      "source": [
        "Tu reto es llenar las interpolaciones en la string con elementos de la lista de arriba. Usa los índices de los elementos para acceder a las respuestas correctas y llenar la lista con información coherente. No todas las respuestas están en la lista. Para obtener algunas respuestas tendrás que acceder a elementos de la lista y realizar operaciones numéricas conn ellos (usando `+` o `-`).\n",
        "\n",
        "> Reto extra: Si quieres un poco más de dificultad, accede a todos los elementos usando **solamente** números negativos como índices"
      ]
    },
    {
      "cell_type": "code",
      "metadata": {
        "id": "7Hj1NWXYdmbh"
      },
      "source": [
        ""
      ],
      "execution_count": null,
      "outputs": []
    }
  ]
}