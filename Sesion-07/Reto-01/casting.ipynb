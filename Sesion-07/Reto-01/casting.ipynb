{
  "nbformat": 4,
  "nbformat_minor": 0,
  "metadata": {
    "kernelspec": {
      "display_name": "Python 3",
      "language": "python",
      "name": "python3"
    },
    "language_info": {
      "codemirror_mode": {
        "name": "ipython",
        "version": 3
      },
      "file_extension": ".py",
      "mimetype": "text/x-python",
      "name": "python",
      "nbconvert_exporter": "python",
      "pygments_lexer": "ipython3",
      "version": "3.8.3"
    },
    "colab": {
      "name": "casting.ipynb",
      "provenance": [],
      "include_colab_link": true
    }
  },
  "cells": [
    {
      "cell_type": "markdown",
      "metadata": {
        "id": "view-in-github",
        "colab_type": "text"
      },
      "source": [
        "<a href=\"https://colab.research.google.com/github/sh4rkd/procesamiento_de_datos_con_python_fred_2021/blob/master/Sesion-07/Reto-01/casting.ipynb\" target=\"_parent\"><img src=\"https://colab.research.google.com/assets/colab-badge.svg\" alt=\"Open In Colab\"/></a>"
      ]
    },
    {
      "cell_type": "markdown",
      "metadata": {
        "id": "44tunwO91AWJ"
      },
      "source": [
        "## Reto 1: Casting\n",
        "\n",
        "### 1. Objetivos:\n",
        "    - Aplicar diversas técnicas de casting a un dataset nuevo\n",
        " \n",
        "---\n",
        "    \n",
        "### 2. Desarrollo:"
      ]
    },
    {
      "cell_type": "markdown",
      "metadata": {
        "id": "eJxi6Zsv1AWL"
      },
      "source": [
        "#### a) Transformando tipos de datos\n",
        "\n",
        "Vamos a trabajar con una versión un poco modificada del dataset que creaste en la sesión pasada. Si bien recuerdas, al final de la sesión pasada automatizamos un programa de Python para obtener un `DataFrame` con todos los objetos que orbitaron cerca de la Tierra en Enero y Febrero de 1995. Para construir este dataset, usamos el API gratuito que ofrece la [NASA](https://api.nasa.gov/).\n",
        "\n",
        "Me tomé la libertad de modificar un poco dicho dataset para que pudiera ser utilizado más efectivamente para los fines de esta sesión. Encontrarás la versión modificada en la ruta '../../Datasets/near_earth_objects-jan_feb_1995-dirty.csv'. Todos los Retos de esta sesión los harás con ese conjunto de datos.\n",
        "\n",
        "Te recomiendo que al finalizar cada reto guardes la nueva versión modificada de tu dataset bajo un nombre que indique el reto realizado (por ejemplo, 'near_earth_objects-jan_feb_1995-reto_1.csv'), para que puedas ir trabajando incrementalmente a través de los retos y no tengas que repetir procesos. Puedes guardar conjuntos de datos en formato `csv` usando el método `DataFrame.to_csv('ruta')`."
      ]
    },
    {
      "cell_type": "markdown",
      "metadata": {
        "id": "G8oVybLa1AWM"
      },
      "source": [
        "Tu primer Reto consistirá en seguir los siguientes pasos:\n",
        "\n",
        "1. Lee el dataset y crea un `DataFrame` con él.\n",
        "2. Realiza una pequeña exploración para familiarizarte con él.\n",
        "3. Convierte la columna `relative_velocity.kilometers_per_hour` de `object` a `float64`.\n",
        "4. Convierte la columna `close_approach_date` a tipo de dato `datetime64[ms]` usando el método `astype` y un diccionario de conversión.\n",
        "5. Convierte la columna `epoch_date_close_approach` a tipo de dato `datetime64[ms]` usando el método `to_datetime`.\n",
        "6. Asigna el `DataFrame` resultante a la variable `df_reto_1`.\n",
        "7. Guarda tu resultado en un archivo .csv."
      ]
    },
    {
      "cell_type": "code",
      "metadata": {
        "id": "_aYKtvrO1AWM",
        "outputId": "ce9fe182-aa03-4d5f-c729-7042dfe6a4c4",
        "colab": {
          "base_uri": "https://localhost:8080/"
        }
      },
      "source": [
        "import pandas as pd\n",
        "df_reto_1 = pd.read_csv('https://github.com/beduExpert/Procesamiento-de-Datos-con-Python-Santander_2020_2021/raw/student/Datasets/near_earth_objects-jan_feb_1995-dirty.csv', index_col=0)\n",
        "df_reto_1[\"relative_velocity.kilometers_per_hour\"] = pd.to_numeric(df_reto_1[\"relative_velocity.kilometers_per_hour\"], errors='coerce')\n",
        "\n",
        "diccionario_de_conversion = {\n",
        "    'close_approach_date': 'datetime64[ns]',\n",
        "    'epoch_date_close_approach': 'datetime64[ns]'\n",
        "}\n",
        "\n",
        "df_reto_1 = df_reto_1.astype(diccionario_de_conversion)\n",
        "\n",
        "df_reto_1.dtypes"
      ],
      "execution_count": 20,
      "outputs": [
        {
          "output_type": "execute_result",
          "data": {
            "text/plain": [
              "id_name                                                     object\n",
              "is_potentially_hazardous_asteroid                             bool\n",
              "estimated_diameter.meters.estimated_diameter_min           float64\n",
              "estimated_diameter.meters.estimated_diameter_max           float64\n",
              "close_approach_date                                 datetime64[ns]\n",
              "epoch_date_close_approach                           datetime64[ns]\n",
              "orbiting_body                                               object\n",
              "relative_velocity.kilometers_per_second                    float64\n",
              "relative_velocity.kilometers_per_hour                      float64\n",
              "orbit_class_description                                     object\n",
              "dtype: object"
            ]
          },
          "metadata": {
            "tags": []
          },
          "execution_count": 20
        }
      ]
    },
    {
      "cell_type": "markdown",
      "metadata": {
        "id": "KHKhpH0Z1AWN"
      },
      "source": [
        "Pídele a tu experta la función de verificación `checar_conversiones` (encontrada en el archivo `helpers.py` de la carpeta donde se encuentra este Reto), pégala debajo y corre la celda para verificar tu resultado:"
      ]
    },
    {
      "cell_type": "code",
      "metadata": {
        "id": "Djof2FnI1AWN",
        "outputId": "e0da10b6-505f-472e-dbdb-2aed7aca5a3d",
        "colab": {
          "base_uri": "https://localhost:8080/"
        }
      },
      "source": [
        "# Pega aquí la función de verificación\n",
        "def checar_conversiones(df_reto_1):\n",
        "    \n",
        "    import pandas as pd\n",
        "    import pandas.api.types as ptypes\n",
        "    \n",
        "    assert ptypes.is_float_dtype(df_reto_1['relative_velocity.kilometers_per_hour']), 'Cuidado... La columna `relative_velocity.kilometers_per_hour` no es de tipo `float64`'\n",
        "    assert ptypes.is_datetime64_any_dtype(df_reto_1['close_approach_date']), 'Cuidado... La columna `close_approach_date` no es de tipo `datetime64[ns]`'\n",
        "    assert ptypes.is_datetime64_any_dtype(df_reto_1['epoch_date_close_approach']), 'Cuidado... La columna `epoch_date_close_approach` no es de tipo `datetime64[ns]'\n",
        "    \n",
        "    print(f'¡Éxito! ¡Todas tus conversiones fueron realizadas adecuadamente!')\n",
        "\n",
        "checar_conversiones(df_reto_1)"
      ],
      "execution_count": 21,
      "outputs": [
        {
          "output_type": "stream",
          "text": [
            "¡Éxito! ¡Todas tus conversiones fueron realizadas adecuadamente!\n"
          ],
          "name": "stdout"
        }
      ]
    },
    {
      "cell_type": "code",
      "metadata": {
        "id": "yeTmDeyF1AWN"
      },
      "source": [
        ""
      ],
      "execution_count": null,
      "outputs": []
    }
  ]
}