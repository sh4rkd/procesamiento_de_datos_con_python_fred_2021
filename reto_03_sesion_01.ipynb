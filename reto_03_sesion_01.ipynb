{
  "nbformat": 4,
  "nbformat_minor": 0,
  "metadata": {
    "kernelspec": {
      "display_name": "Python 3",
      "language": "python",
      "name": "python3"
    },
    "language_info": {
      "codemirror_mode": {
        "name": "ipython",
        "version": 3
      },
      "file_extension": ".py",
      "mimetype": "text/x-python",
      "name": "python",
      "nbconvert_exporter": "python",
      "pygments_lexer": "ipython3",
      "version": "3.8.3"
    },
    "colab": {
      "name": "interpolacion_de_strings.ipynb",
      "provenance": []
    }
  },
  "cells": [
    {
      "cell_type": "markdown",
      "metadata": {
        "id": "4b-MFA3w7SIo"
      },
      "source": [
        "## Reto 3: Interpolación de strings\n",
        "\n",
        "### 1. Objetivos:\n",
        "    - Practicar interpolación de strings\n",
        " \n",
        "---\n",
        "    \n",
        "### 2. Desarrollo:"
      ]
    },
    {
      "cell_type": "markdown",
      "metadata": {
        "id": "mChbf-tQ7SIq"
      },
      "source": [
        "A continuación tienes algunas variables asignadas:"
      ]
    },
    {
      "cell_type": "code",
      "metadata": {
        "id": "IIgKEskg7SIq"
      },
      "source": [
        "nombre_1 = \"Jenny\"\n",
        "nombre_2 = \"Marco P.\"\n",
        "\n",
        "edad_1 = 110\n",
        "edad_2 = 42\n",
        "\n",
        "estrella_1 = \"Woopsie Doopsies\"\n",
        "estrella_2 = \"Omega-3\"\n",
        "estrella_3 = \"Justin Bieber\"\n",
        "estrella_4 = \"La Twinkle\"\n",
        "estrella_5 = \"Rosaberta\"\n",
        "\n",
        "total_de_nombres_de_estrellas_mencionados = 5\n",
        "numero_de_estrellas_deseadas = 325"
      ],
      "execution_count": 1,
      "outputs": []
    },
    {
      "cell_type": "markdown",
      "metadata": {
        "id": "7F5kvD2X7SIr"
      },
      "source": [
        "Usando **TODAS** las variables de arriba, crea una (o más) string que, al correr la celda, imprima la siguiente historia:\n",
        "\n",
        "> \"Marco P. y Jenny son grandes amigues. Les mejores. Van y vienen juntes desde hace décadas. Sí, décadas. Marco P. tiene 110 años y Jenny 42. Si sumas sus edades, obtienes 152, que curiosamente es el número de estrellas que Marco P. y Jenny han nombrado juntes. Sus estrellas son su mayor fascinación. Las compraron en Best Buy en una ganga de objetos celestes. Están 'Woopsie Doopsies', 'Omega-3', 'Justin Bieber', 'La Twinkle', 'Rosaberta' y otras 147 estrellas más. Marco P. y Jenny tienen planeado sobrevivir hasta el siglo XXII. ¡Cuántas estrellas más habrán de comprar y nombrar juntes! Su meta es 325. Sólo faltan 173. ¡Vamos Marco P. y Jenny! Marco P. y Jenny son les mejores amigues. No hay duda alguna.\"\n",
        "\n",
        "Recuerda utilizar **TODAS** las variables que hemos asignado. También, todos los números que aparezcan en el texto deben de ser variables interpoladas u operaciones aritméticas. Ningún número puede ser una string simple.\n",
        "\n",
        "¡Mucha suerte!"
      ]
    },
    {
      "cell_type": "code",
      "metadata": {
        "id": "Um_YhYCX7SIr",
        "outputId": "e98c85db-dfc8-4da7-cd87-9b394012cb7e",
        "colab": {
          "base_uri": "https://localhost:8080/",
          "height": 103
        }
      },
      "source": [
        "f\"{nombre_2} y {nombre_1} son grandes amigues. Les mejores. Van y vienen juntes desde hace décadas. Sí, décadas. {nombre_2} tiene {edad_1} años y {nombre_1} {edad_2}. Si sumas sus edades, obtienes 152, que curiosamente es el número de estrellas que {nombre_2} y {nombre_1} han nombrado juntes. Sus estrellas son su mayor fascinación. Las compraron en Best Buy en una ganga de objetos celestes. Están '{estrella_1}', '{estrella_2}', '{estrella_3}', '{estrella_4}', '{estrella_5}' y otras 147 estrellas más. {nombre_2} y {nombre_1} tienen planeado sobrevivir hasta el siglo XXII. ¡Cuántas estrellas más habrán de comprar y nombrar juntes! Su meta es 325. Sólo faltan 173. ¡Vamos {nombre_2} y {nombre_1}! {nombre_2} y {nombre_1} son les mejores amigues. No hay duda alguna.\""
      ],
      "execution_count": 8,
      "outputs": [
        {
          "output_type": "execute_result",
          "data": {
            "application/vnd.google.colaboratory.intrinsic+json": {
              "type": "string"
            },
            "text/plain": [
              "\"Marco P. y Jenny son grandes amigues. Les mejores. Van y vienen juntes desde hace décadas. Sí, décadas. Marco P. tiene 110 años y Jenny 42. Si sumas sus edades, obtienes 152, que curiosamente es el número de estrellas que Marco P. y Jenny han nombrado juntes. Sus estrellas son su mayor fascinación. Las compraron en Best Buy en una ganga de objetos celestes. Están 'Woopsie Doopsies', 'Omega-3', 'Justin Bieber', 'La Twinkle', 'Rosaberta' y otras 147 estrellas más. Marco P. y Jenny tienen planeado sobrevivir hasta el siglo XXII. ¡Cuántas estrellas más habrán de comprar y nombrar juntes! Su meta es 325. Sólo faltan 173. ¡Vamos Marco P. y Jenny! Marco P. y Jenny son les mejores amigues. No hay duda alguna.\""
            ]
          },
          "metadata": {
            "tags": []
          },
          "execution_count": 8
        }
      ]
    }
  ]
}