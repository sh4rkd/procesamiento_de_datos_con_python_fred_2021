{
  "nbformat": 4,
  "nbformat_minor": 0,
  "metadata": {
    "kernelspec": {
      "display_name": "Python 3",
      "language": "python",
      "name": "python3"
    },
    "language_info": {
      "codemirror_mode": {
        "name": "ipython",
        "version": 3
      },
      "file_extension": ".py",
      "mimetype": "text/x-python",
      "name": "python",
      "nbconvert_exporter": "python",
      "pygments_lexer": "ipython3",
      "version": "3.8.3"
    },
    "colab": {
      "name": "dataframes.ipynb",
      "provenance": [],
      "include_colab_link": true
    }
  },
  "cells": [
    {
      "cell_type": "markdown",
      "metadata": {
        "id": "view-in-github",
        "colab_type": "text"
      },
      "source": [
        "<a href=\"https://colab.research.google.com/github/sh4rkd/procesamiento_de_datos_con_python_fred_2021/blob/master/Sesion-04/Reto-03/dataframes.ipynb\" target=\"_parent\"><img src=\"https://colab.research.google.com/assets/colab-badge.svg\" alt=\"Open In Colab\"/></a>"
      ]
    },
    {
      "cell_type": "markdown",
      "metadata": {
        "id": "jzBfhZA3syKV"
      },
      "source": [
        "## Reto 3: DataFrames\n",
        "\n",
        "### 1. Objetivos:\n",
        "    - Aprender a crear `DataFrames` e indexar por columna y por fila\n",
        " \n",
        "---\n",
        "    \n",
        "### 2. Desarrollo:"
      ]
    },
    {
      "cell_type": "markdown",
      "metadata": {
        "id": "mZme94WMsyKX"
      },
      "source": [
        "#### a) Creación e indexación de `DataFrames`\n",
        "\n",
        "Eres el Data Wrangler (procesador de datos) de EyePoker Inc. Tienes el siguiente diccionario con datos que se refieren a diferentes productos que vende la empresa. Este es tu conjunto de datos y el índice que le corresponde:"
      ]
    },
    {
      "cell_type": "code",
      "metadata": {
        "id": "Zucu01adsyKY"
      },
      "source": [
        "datos_productos = {\n",
        "    \"nombre\": [\"Pokemaster\", \"Cegatron\", \"Pikame Mucho\", \"Lazarillo de Tormes\", \"Stevie Wonder\", \"Needle\", \"El AyMeDuele\"],\n",
        "    \"precio\": [10000, 5500, 3500, 750, 15500, 12250, 23000],\n",
        "    \"peso\": [1.2, 1.5, 2.3, 5.5, 3.4, 2.4, 8.8],\n",
        "    \"capacidad de destrucción retinal\": [3, 7, 6, 8, 9, 2, 10],\n",
        "    \"disponible\": [True, False, True, True, False, False, True]\n",
        "}\n",
        "\n",
        "indice = [1, 2, 3, 4, 5, 6, 7]"
      ],
      "execution_count": 1,
      "outputs": []
    },
    {
      "cell_type": "markdown",
      "metadata": {
        "id": "2WMccP3ssyKZ"
      },
      "source": [
        "El Analista de Datos de la empresa quiere realizar algunas visualizaciones con este conjunto de datos, pero no es muy buen procesador de datos, así que te pide a ti ayuda para crear los subconjuntos de datos que necesita para sus visualizaciones.\n",
        "\n",
        "Te ha dado las descripciones de los subconjuntos que necesita, en el orden en el que los quiere.\n",
        "\n",
        "Tu primer paso es convertir tu `diccionario` a `DataFrame` usando `datos_productos` e `indice`:"
      ]
    },
    {
      "cell_type": "code",
      "metadata": {
        "id": "Gi7slrdysyKZ"
      },
      "source": [
        "## Realiza aquí los imports que necesites\n",
        "import pandas as pd"
      ],
      "execution_count": 2,
      "outputs": []
    },
    {
      "cell_type": "code",
      "metadata": {
        "id": "SkUzLlMUsyKa"
      },
      "source": [
        "df_productos = pd.DataFrame(datos_productos,indice)"
      ],
      "execution_count": 3,
      "outputs": []
    },
    {
      "cell_type": "code",
      "metadata": {
        "id": "H85Ib_4QsyKa",
        "outputId": "7d16fa4a-96b9-47a8-89aa-16795179ae00",
        "colab": {
          "base_uri": "https://localhost:8080/",
          "height": 266
        }
      },
      "source": [
        "df_productos"
      ],
      "execution_count": 4,
      "outputs": [
        {
          "output_type": "execute_result",
          "data": {
            "text/html": [
              "<div>\n",
              "<style scoped>\n",
              "    .dataframe tbody tr th:only-of-type {\n",
              "        vertical-align: middle;\n",
              "    }\n",
              "\n",
              "    .dataframe tbody tr th {\n",
              "        vertical-align: top;\n",
              "    }\n",
              "\n",
              "    .dataframe thead th {\n",
              "        text-align: right;\n",
              "    }\n",
              "</style>\n",
              "<table border=\"1\" class=\"dataframe\">\n",
              "  <thead>\n",
              "    <tr style=\"text-align: right;\">\n",
              "      <th></th>\n",
              "      <th>nombre</th>\n",
              "      <th>precio</th>\n",
              "      <th>peso</th>\n",
              "      <th>capacidad de destrucción retinal</th>\n",
              "      <th>disponible</th>\n",
              "    </tr>\n",
              "  </thead>\n",
              "  <tbody>\n",
              "    <tr>\n",
              "      <th>1</th>\n",
              "      <td>Pokemaster</td>\n",
              "      <td>10000</td>\n",
              "      <td>1.2</td>\n",
              "      <td>3</td>\n",
              "      <td>True</td>\n",
              "    </tr>\n",
              "    <tr>\n",
              "      <th>2</th>\n",
              "      <td>Cegatron</td>\n",
              "      <td>5500</td>\n",
              "      <td>1.5</td>\n",
              "      <td>7</td>\n",
              "      <td>False</td>\n",
              "    </tr>\n",
              "    <tr>\n",
              "      <th>3</th>\n",
              "      <td>Pikame Mucho</td>\n",
              "      <td>3500</td>\n",
              "      <td>2.3</td>\n",
              "      <td>6</td>\n",
              "      <td>True</td>\n",
              "    </tr>\n",
              "    <tr>\n",
              "      <th>4</th>\n",
              "      <td>Lazarillo de Tormes</td>\n",
              "      <td>750</td>\n",
              "      <td>5.5</td>\n",
              "      <td>8</td>\n",
              "      <td>True</td>\n",
              "    </tr>\n",
              "    <tr>\n",
              "      <th>5</th>\n",
              "      <td>Stevie Wonder</td>\n",
              "      <td>15500</td>\n",
              "      <td>3.4</td>\n",
              "      <td>9</td>\n",
              "      <td>False</td>\n",
              "    </tr>\n",
              "    <tr>\n",
              "      <th>6</th>\n",
              "      <td>Needle</td>\n",
              "      <td>12250</td>\n",
              "      <td>2.4</td>\n",
              "      <td>2</td>\n",
              "      <td>False</td>\n",
              "    </tr>\n",
              "    <tr>\n",
              "      <th>7</th>\n",
              "      <td>El AyMeDuele</td>\n",
              "      <td>23000</td>\n",
              "      <td>8.8</td>\n",
              "      <td>10</td>\n",
              "      <td>True</td>\n",
              "    </tr>\n",
              "  </tbody>\n",
              "</table>\n",
              "</div>"
            ],
            "text/plain": [
              "                nombre  precio  ...  capacidad de destrucción retinal  disponible\n",
              "1           Pokemaster   10000  ...                                 3        True\n",
              "2             Cegatron    5500  ...                                 7       False\n",
              "3         Pikame Mucho    3500  ...                                 6        True\n",
              "4  Lazarillo de Tormes     750  ...                                 8        True\n",
              "5        Stevie Wonder   15500  ...                                 9       False\n",
              "6               Needle   12250  ...                                 2       False\n",
              "7         El AyMeDuele   23000  ...                                10        True\n",
              "\n",
              "[7 rows x 5 columns]"
            ]
          },
          "metadata": {
            "tags": []
          },
          "execution_count": 4
        }
      ]
    },
    {
      "cell_type": "markdown",
      "metadata": {
        "id": "ZGwmbO7bsyKb"
      },
      "source": [
        "Ahora, indexa tu `DataFrame` para obtener los subconjuntos requeridos. Los productos en existencia tienen un orden específico en la base de datos. El orden correcto es el que está definido en `datos_productos`. Eso significa que el \"Pokemaster\" tiene el índice `1` y es el *primer* producto; y el \"El AyMeDuele\" tiene el ìndice `7` y es el *último* producto.\n",
        "\n",
        "Realiza las indexaciones debajo. Recuerda ordenar tus `DataFrames` en el orden en el que los menciona el Analista:"
      ]
    },
    {
      "cell_type": "code",
      "metadata": {
        "id": "9OcCgk-4syKc",
        "outputId": "ec25a3db-771e-4d45-dfc3-01f639f93212",
        "colab": {
          "base_uri": "https://localhost:8080/",
          "height": 173
        }
      },
      "source": [
        "# Quiero un DataFrame que contenga los productos \"Pikame Mucho\" y \"Stevie Wonder\"\n",
        "pm_sw = df_productos.loc[[3,5]]\n",
        "\n",
        "# Quiero un DataFrame que contenga desde el producto #4 hasta el último\n",
        "p4_final = df_productos.loc[4:]\n",
        "\n",
        "# Quiero un DataFrame que contenga los productos \"El AyMeDuele\", \"Lazarillo de Tormes\" y \"Needle\"\n",
        "amd_lt_n = df_productos.loc[[7,4,6]]\n",
        "\n",
        "# Quiero un DataFrame que contenga desde el primer producto hasta el producto #5\n",
        "primer_p5 = df_productos.loc[:5]\n",
        "\n",
        "# Quiero un DataFrame que contenga los productos \"Pikame Mucho\" y \"Lazarillo de Tormes\", pero sólo con las columnas \"nombre\", \"precio\" y \"peso\"\n",
        "pm_lt_pp = df_productos.loc[[3,4],[\"nombre\",\"precio\",\"peso\"]]\n",
        "\n",
        "# Quiero un DataFrame que contenga todos los productos pero con sólo las columnas 'nombre', 'precio' y 'capacidad de destrucción retinal'\n",
        "t_pcdr = df_productos.loc[:,[\"nombre\",\"precio\",\"capacidad de destrucción retinal\"]]\n",
        "\n",
        "# Quiero un DataFrame que contenga desde el producto #3 hasta el #6, pero sólo las columnas 'nombre', 'precio' y 'disponible'\n",
        "p3_p6_pd = df_productos.loc[3:6,[\"nombre\",\"precio\",\"disponible\"]]"
      ],
      "execution_count": 16,
      "outputs": [
        {
          "output_type": "execute_result",
          "data": {
            "text/html": [
              "<div>\n",
              "<style scoped>\n",
              "    .dataframe tbody tr th:only-of-type {\n",
              "        vertical-align: middle;\n",
              "    }\n",
              "\n",
              "    .dataframe tbody tr th {\n",
              "        vertical-align: top;\n",
              "    }\n",
              "\n",
              "    .dataframe thead th {\n",
              "        text-align: right;\n",
              "    }\n",
              "</style>\n",
              "<table border=\"1\" class=\"dataframe\">\n",
              "  <thead>\n",
              "    <tr style=\"text-align: right;\">\n",
              "      <th></th>\n",
              "      <th>nombre</th>\n",
              "      <th>precio</th>\n",
              "      <th>disponible</th>\n",
              "    </tr>\n",
              "  </thead>\n",
              "  <tbody>\n",
              "    <tr>\n",
              "      <th>3</th>\n",
              "      <td>Pikame Mucho</td>\n",
              "      <td>3500</td>\n",
              "      <td>True</td>\n",
              "    </tr>\n",
              "    <tr>\n",
              "      <th>4</th>\n",
              "      <td>Lazarillo de Tormes</td>\n",
              "      <td>750</td>\n",
              "      <td>True</td>\n",
              "    </tr>\n",
              "    <tr>\n",
              "      <th>5</th>\n",
              "      <td>Stevie Wonder</td>\n",
              "      <td>15500</td>\n",
              "      <td>False</td>\n",
              "    </tr>\n",
              "    <tr>\n",
              "      <th>6</th>\n",
              "      <td>Needle</td>\n",
              "      <td>12250</td>\n",
              "      <td>False</td>\n",
              "    </tr>\n",
              "  </tbody>\n",
              "</table>\n",
              "</div>"
            ],
            "text/plain": [
              "                nombre  precio  disponible\n",
              "3         Pikame Mucho    3500        True\n",
              "4  Lazarillo de Tormes     750        True\n",
              "5        Stevie Wonder   15500       False\n",
              "6               Needle   12250       False"
            ]
          },
          "metadata": {
            "tags": []
          },
          "execution_count": 16
        }
      ]
    },
    {
      "cell_type": "markdown",
      "metadata": {
        "id": "GzghGkYWsyKd"
      },
      "source": [
        "Pídele a tu experta la función de verificación `verificar_indexaciones` (encontrada en el archivo `helpers.py` de la carpeta donde se encuentra este Reto), pégala debajo y corre la celda para verificar tu resultado:"
      ]
    },
    {
      "cell_type": "code",
      "metadata": {
        "id": "13odqyj_syKd",
        "outputId": "195b1481-29a9-4a4d-ae25-f7481be719e5",
        "colab": {
          "base_uri": "https://localhost:8080/"
        }
      },
      "source": [
        "# Pega aquí la función de verificación\n",
        "def verificar_indexaciones(datos_productos, indice, df_productos, pm_sw, p4_final, amd_lt_n, primer_p5, pm_lt_pp, t_pcdr, p3_p6_pd):\n",
        "    \n",
        "    import pandas as pd\n",
        "    \n",
        "    df_productos_esperado = pd.DataFrame(datos_productos, index=indice)\n",
        "    if not df_productos_esperado.equals(df_productos):\n",
        "        print(f'df_productos ha sido creado incorrectamente ... Favor de revisar')\n",
        "        return\n",
        "    \n",
        "    print(f'== Verificación de Indexaciones ==\\n')\n",
        "    verificar_indexacion(df_productos.loc[[3, 5]], pm_sw, 'DataFrame que contenga los productos \"Pikame Mucho\" y \"Stevie Wonder\"')\n",
        "    verificar_indexacion(df_productos.loc[4:], p4_final, 'DataFrame que contenga desde el producto #4 hasta el último')\n",
        "    verificar_indexacion(df_productos.loc[[7, 4, 6]], amd_lt_n, 'DataFrame que contenga los productos \"El AyMeDuele\", \"Lazarillo de Tormes\" y \"Needle\"')\n",
        "    verificar_indexacion(df_productos.loc[:5], primer_p5, 'DataFrame que contenga desde el primer producto hasta el producto #5')\n",
        "    verificar_indexacion(df_productos.loc[[3, 4], ['nombre', 'precio', 'peso']], pm_lt_pp, 'DataFrame que contenga los productos \"Pikame Mucho\" y \"Lazarillo de Tormes\", pero sólo con las columnas \"nombre\", \"precio\" y \"peso\"')\n",
        "    verificar_indexacion(df_productos[['nombre', 'precio', 'capacidad de destrucción retinal']], t_pcdr, \"DataFrame que contenga todos los productos pero con sólo las columnas 'nombre', 'precio' y 'capacidad de destrucción retinal'\")\n",
        "    verificar_indexacion(df_productos.loc[3:6, ['nombre', 'precio', 'disponible']], p3_p6_pd, \"DataFrame que contenga desde el producto #3 hasta el #6, pero sólo las columnas 'nombre', 'precio' y 'disponible'\")\n",
        "    \n",
        "def verificar_indexacion(esperada, recibida, descripcion):\n",
        "    es_correcta = \"Correcto\" if esperada.equals(recibida) else \"Incorrecto\"\n",
        "    respuesta = \"Muchas gracias!\" if es_correcta == \"Correcto\" else \"Favor de revisar\"\n",
        "    print(f\"\\n- Descripción de pedido: {descripcion}\")\n",
        "    print(f\"El pedido es {es_correcta} ... {respuesta}\")\n",
        "\n",
        "verificar_indexaciones(datos_productos, indice, df_productos, pm_sw, p4_final, amd_lt_n, primer_p5, pm_lt_pp, t_pcdr, p3_p6_pd)"
      ],
      "execution_count": 17,
      "outputs": [
        {
          "output_type": "stream",
          "text": [
            "== Verificación de Indexaciones ==\n",
            "\n",
            "\n",
            "- Descripción de pedido: DataFrame que contenga los productos \"Pikame Mucho\" y \"Stevie Wonder\"\n",
            "El pedido es Correcto ... Muchas gracias!\n",
            "\n",
            "- Descripción de pedido: DataFrame que contenga desde el producto #4 hasta el último\n",
            "El pedido es Correcto ... Muchas gracias!\n",
            "\n",
            "- Descripción de pedido: DataFrame que contenga los productos \"El AyMeDuele\", \"Lazarillo de Tormes\" y \"Needle\"\n",
            "El pedido es Correcto ... Muchas gracias!\n",
            "\n",
            "- Descripción de pedido: DataFrame que contenga desde el primer producto hasta el producto #5\n",
            "El pedido es Correcto ... Muchas gracias!\n",
            "\n",
            "- Descripción de pedido: DataFrame que contenga los productos \"Pikame Mucho\" y \"Lazarillo de Tormes\", pero sólo con las columnas \"nombre\", \"precio\" y \"peso\"\n",
            "El pedido es Correcto ... Muchas gracias!\n",
            "\n",
            "- Descripción de pedido: DataFrame que contenga todos los productos pero con sólo las columnas 'nombre', 'precio' y 'capacidad de destrucción retinal'\n",
            "El pedido es Correcto ... Muchas gracias!\n",
            "\n",
            "- Descripción de pedido: DataFrame que contenga desde el producto #3 hasta el #6, pero sólo las columnas 'nombre', 'precio' y 'disponible'\n",
            "El pedido es Correcto ... Muchas gracias!\n"
          ],
          "name": "stdout"
        }
      ]
    },
    {
      "cell_type": "code",
      "metadata": {
        "id": "hH451aZssyKe"
      },
      "source": [
        ""
      ],
      "execution_count": null,
      "outputs": []
    }
  ]
}