{
  "nbformat": 4,
  "nbformat_minor": 0,
  "metadata": {
    "kernelspec": {
      "display_name": "Python 3",
      "language": "python",
      "name": "python3"
    },
    "language_info": {
      "codemirror_mode": {
        "name": "ipython",
        "version": 3
      },
      "file_extension": ".py",
      "mimetype": "text/x-python",
      "name": "python",
      "nbconvert_exporter": "python",
      "pygments_lexer": "ipython3",
      "version": "3.8.3"
    },
    "colab": {
      "name": "indexacion_de_series.ipynb",
      "provenance": [],
      "include_colab_link": true
    }
  },
  "cells": [
    {
      "cell_type": "markdown",
      "metadata": {
        "id": "view-in-github",
        "colab_type": "text"
      },
      "source": [
        "<a href=\"https://colab.research.google.com/github/sh4rkd/procesamiento_de_datos_con_python_fred_2021/blob/master/Sesion-04/Reto-02/indexacion_de_series.ipynb\" target=\"_parent\"><img src=\"https://colab.research.google.com/assets/colab-badge.svg\" alt=\"Open In Colab\"/></a>"
      ]
    },
    {
      "cell_type": "markdown",
      "metadata": {
        "id": "4IwEl0tQlxXA"
      },
      "source": [
        "## Reto 2: Indexación de Series\n",
        "\n",
        "### 1. Objetivos:\n",
        "    - Practicar técnicas avanzadas de indexación de `Series`\n",
        " \n",
        "---\n",
        "    \n",
        "### 2. Desarrollo:"
      ]
    },
    {
      "cell_type": "markdown",
      "metadata": {
        "id": "u7GykRsGlxXC"
      },
      "source": [
        "#### a) Indexación de `Series`\n",
        "\n",
        "Tenemos una `Serie` que contiene los gastos mensuales totales (en MXN) de distintas divisiones de EyePoker Inc. Tú eres el Contador Oficial y tienes que obtener subconjuntos de datos que sirvan para agregar los gastos totales de diferentes combinaciones de divisiones.\n",
        "\n",
        "Los datos son los siguientes:"
      ]
    },
    {
      "cell_type": "code",
      "metadata": {
        "id": "J3Cqqr3mlxXD"
      },
      "source": [
        "import pandas as pd\n",
        "\n",
        "gastos_mensuales = {\n",
        "    'A': 15000,\n",
        "    'B': 200000,\n",
        "    'C': 3250000,\n",
        "    'D': 120000,\n",
        "    'E': 135000,\n",
        "    'F': 55000,\n",
        "    'G': 100000,\n",
        "    'H': 25000\n",
        "}\n",
        "\n",
        "gastos_serie = pd.Series(gastos_mensuales)"
      ],
      "execution_count": 21,
      "outputs": []
    },
    {
      "cell_type": "code",
      "metadata": {
        "id": "F8zUPrhRlxXE",
        "outputId": "f40f6b55-fbce-4d28-b7c9-94945bf397f3",
        "colab": {
          "base_uri": "https://localhost:8080/"
        }
      },
      "source": [
        "gastos_serie"
      ],
      "execution_count": 22,
      "outputs": [
        {
          "output_type": "execute_result",
          "data": {
            "text/plain": [
              "A      15000\n",
              "B     200000\n",
              "C    3250000\n",
              "D     120000\n",
              "E     135000\n",
              "F      55000\n",
              "G     100000\n",
              "H      25000\n",
              "dtype: int64"
            ]
          },
          "metadata": {
            "tags": []
          },
          "execution_count": 22
        }
      ]
    },
    {
      "cell_type": "markdown",
      "metadata": {
        "id": "yKKY5wKalxXE"
      },
      "source": [
        "El índice es el nombre de la división y los valores son los gastos mensuales en MXN.\n",
        "\n",
        "Indexando la serie `gastos_serie` extrae las combinaciones de divisiones que se indican debajo para poder hacer los cálculos necesarios. El primero es un ejemplo:"
      ]
    },
    {
      "cell_type": "code",
      "metadata": {
        "id": "nzVY57ztlxXF",
        "outputId": "23d6e07f-e7fb-4f11-8689-17e5515f9b7b",
        "colab": {
          "base_uri": "https://localhost:8080/"
        }
      },
      "source": [
        "# Los gastos de la división 'D' y 'G'\n",
        "gastos_D_G = gastos_serie.loc[[\"D\",\"G\"]]\n",
        "\n",
        "# Los gastos de la división 'A' y 'E'\n",
        "gastos_A_E = gastos_serie.loc[[\"A\",\"E\"]]\n",
        "\n",
        "# Los gastos de la división 'B', 'F' y 'H'\n",
        "gastos_B_F_H = gastos_serie.loc[[\"B\",\"F\",\"H\"]]\n",
        "\n",
        "# Los gastos desde la primera división hasta la división 'E'\n",
        "gastos_principio_a_E =  gastos_serie.loc[:\"E\"]\n",
        "\n",
        "# Los gastos desde la división 'D' hasta la 'G'\n",
        "gastos_D_a_G =  gastos_serie.loc[\"D\":\"G\"]\n",
        "\n",
        "# Los gastos desde la división 'C' hasta el la última división\n",
        "gastos_C_a_final = gastos_serie.loc[\"C\":]\n",
        "\n",
        "gastos_principio_a_E"
      ],
      "execution_count": 50,
      "outputs": [
        {
          "output_type": "execute_result",
          "data": {
            "text/plain": [
              "A      15000\n",
              "B     200000\n",
              "C    3250000\n",
              "D     120000\n",
              "E     135000\n",
              "dtype: int64"
            ]
          },
          "metadata": {
            "tags": []
          },
          "execution_count": 50
        }
      ]
    },
    {
      "cell_type": "markdown",
      "metadata": {
        "id": "Ut_kip-NlxXF"
      },
      "source": [
        "Pídele a tu experta la función de verificación `revisar_indexaciones` (encontrada en el archivo `helpers.py` de la carpeta donde se encuentra este Reto), pégala debajo y corre la celda para verificar tu resultado:"
      ]
    },
    {
      "cell_type": "code",
      "metadata": {
        "id": "LJw5jI5alxXG",
        "outputId": "cec6af76-ee2e-460f-896d-6c98ada2c35e",
        "colab": {
          "base_uri": "https://localhost:8080/"
        }
      },
      "source": [
        "def revisar_indexaciones(gastos_serie, gastos_D_G, gastos_A_E, gastos_B_F_H,\n",
        "                         gastos_principio_a_E, gastos_D_a_G, gastos_C_a_final):\n",
        "    \n",
        "    print(f'== Revisión de Indexaciones ==\\n')\n",
        "    print(f\"{'Indexación':30} | {'Resultado':15} | {'Suma esperada ':15} | {'Suma recibida ':15}\")\n",
        "    print(\"-\"*85)\n",
        "    revisar_indexacion(gastos_serie.loc[['D', 'G']], gastos_D_G, 'División D y G')\n",
        "    revisar_indexacion(gastos_serie.loc[['A', 'E']], gastos_A_E, 'División A y E')\n",
        "    revisar_indexacion(gastos_serie.loc[['B', 'F', 'H']], gastos_B_F_H, 'División B, F y H')\n",
        "    revisar_indexacion(gastos_serie.loc[:'E'], gastos_principio_a_E, 'Desde primera División a E')\n",
        "    revisar_indexacion(gastos_serie.loc['D':'G'], gastos_D_a_G, 'División D y G')\n",
        "    revisar_indexacion(gastos_serie.loc['C':], gastos_C_a_final, 'División C a última División')\n",
        "\n",
        "def formatear_precio(precio):\n",
        "    return f\"${precio} MXN\"\n",
        "    \n",
        "def revisar_indexacion(esperada, recibida, nombre):\n",
        "    es_correcta = 'Correcta' if esperada.equals(recibida) else 'Incorrecta'\n",
        "    suma_esperada = formatear_precio(sum(esperada))\n",
        "    suma_recibida = formatear_precio(sum(recibida))\n",
        "    print(f\"{nombre:30} | {es_correcta:15} | {suma_esperada:15} | {suma_recibida:15}\")\n",
        "\n",
        "revisar_indexaciones(gastos_serie, gastos_D_G, gastos_A_E, gastos_B_F_H,\n",
        "                         gastos_principio_a_E, gastos_D_a_G, gastos_C_a_final)"
      ],
      "execution_count": 51,
      "outputs": [
        {
          "output_type": "stream",
          "text": [
            "== Revisión de Indexaciones ==\n",
            "\n",
            "Indexación                     | Resultado       | Suma esperada   | Suma recibida  \n",
            "-------------------------------------------------------------------------------------\n",
            "División D y G                 | Correcta        | $220000 MXN     | $220000 MXN    \n",
            "División A y E                 | Correcta        | $150000 MXN     | $150000 MXN    \n",
            "División B, F y H              | Correcta        | $280000 MXN     | $280000 MXN    \n",
            "Desde primera División a E     | Correcta        | $3720000 MXN    | $3720000 MXN   \n",
            "División D y G                 | Correcta        | $410000 MXN     | $410000 MXN    \n",
            "División C a última División   | Correcta        | $3685000 MXN    | $3685000 MXN   \n"
          ],
          "name": "stdout"
        }
      ]
    }
  ]
}