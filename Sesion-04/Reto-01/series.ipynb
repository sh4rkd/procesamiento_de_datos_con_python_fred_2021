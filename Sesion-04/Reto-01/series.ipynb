{
  "nbformat": 4,
  "nbformat_minor": 0,
  "metadata": {
    "kernelspec": {
      "display_name": "Python 3",
      "language": "python",
      "name": "python3"
    },
    "language_info": {
      "codemirror_mode": {
        "name": "ipython",
        "version": 3
      },
      "file_extension": ".py",
      "mimetype": "text/x-python",
      "name": "python",
      "nbconvert_exporter": "python",
      "pygments_lexer": "ipython3",
      "version": "3.8.3"
    },
    "colab": {
      "name": "series.ipynb",
      "provenance": [],
      "include_colab_link": true
    }
  },
  "cells": [
    {
      "cell_type": "markdown",
      "metadata": {
        "id": "view-in-github",
        "colab_type": "text"
      },
      "source": [
        "<a href=\"https://colab.research.google.com/github/sh4rkd/procesamiento_de_datos_con_python_fred_2021/blob/master/Sesion-04/Reto-01/series.ipynb\" target=\"_parent\"><img src=\"https://colab.research.google.com/assets/colab-badge.svg\" alt=\"Open In Colab\"/></a>"
      ]
    },
    {
      "cell_type": "markdown",
      "metadata": {
        "id": "PxTIDufLefz9"
      },
      "source": [
        "## Reto 1: Series\n",
        "\n",
        "### 1. Objetivos:\n",
        "    - Practicar la creación de `Series` y la indexación básica de éstas\n",
        " \n",
        "---\n",
        "    \n",
        "### 2. Desarrollo:"
      ]
    },
    {
      "cell_type": "code",
      "metadata": {
        "id": "o_0YYO-vef0A"
      },
      "source": [
        "## Realiza aquí los imports que necesites para que tu código funcione correctamente\n",
        "import pandas as pd"
      ],
      "execution_count": 1,
      "outputs": []
    },
    {
      "cell_type": "markdown",
      "metadata": {
        "id": "6BrIONUzef0B"
      },
      "source": [
        "#### a) Creación de `Series`\n",
        "\n",
        "A continuación tenemos unas variables que contienen los nombres de los ejecutivos más importantes de nuestra ya conocida EyePoker Inc. Debajo de eso hay una variable que no ha sido asignada aún:"
      ]
    },
    {
      "cell_type": "code",
      "metadata": {
        "id": "pgtwxiLfef0B"
      },
      "source": [
        "ejecutivo_1 = 'Marco P.'\n",
        "ejecutivo_2 = 'Jenny'\n",
        "ejecutivo_3 = 'Britney Baby'\n",
        "ejecutivo_4 = 'Pepe Guardabosques'\n",
        "ejecutivo_5 = 'Lombardo El Destructor'\n",
        "\n",
        "sueldos = pd.Series([25,30,40,50,75],index = [ejecutivo_1,ejecutivo_2,ejecutivo_3,ejecutivo_4,ejecutivo_5])"
      ],
      "execution_count": 5,
      "outputs": []
    },
    {
      "cell_type": "markdown",
      "metadata": {
        "id": "nfOEY9fgef0C"
      },
      "source": [
        "Tu tarea es crear una `Serie` de `pandas` y asignarla a la variable `sueldos`. La información que hay dentro de esta variable son (oh, sorpresa) los sueldos de dichos ejecutivos.\n",
        "\n",
        "Los valores de la `Serie` serán los sueldos, mientras que el índice de la `Serie` serán los nombres de los ejecutivos.\n",
        "\n",
        "Crea una `Serie` y asígnala a `sueldos` de manera que el código que tenemos debajo funcione correctamente:"
      ]
    },
    {
      "cell_type": "code",
      "metadata": {
        "id": "6TSbuHlyef0C",
        "outputId": "28fb8aa0-55f8-4bc8-913f-9b32cb662e35",
        "colab": {
          "base_uri": "https://localhost:8080/"
        }
      },
      "source": [
        "print('== Sueldos de los principales ejecutivos de EyePoker Inc. ==\\n')\n",
        "\n",
        "print(f'{(\"Ejecutivo\"):25} | {(\"Sueldo\")}')\n",
        "print('----------------------------------------')\n",
        "print(f'{ejecutivo_1:25} | ${(sueldos.loc[ejecutivo_1])} MXN')\n",
        "print(f'{ejecutivo_2:25} | ${(sueldos.loc[ejecutivo_2])} MXN')\n",
        "print(f'{ejecutivo_3:25} | ${(sueldos.loc[ejecutivo_3])} MXN')\n",
        "print(f'{ejecutivo_4:25} | ${(sueldos.loc[ejecutivo_4])} MXN')\n",
        "print(f'{ejecutivo_5:25} | ${(sueldos.loc[ejecutivo_5])} MXN')"
      ],
      "execution_count": 6,
      "outputs": [
        {
          "output_type": "stream",
          "text": [
            "== Sueldos de los principales ejecutivos de EyePoker Inc. ==\n",
            "\n",
            "Ejecutivo                 | Sueldo\n",
            "----------------------------------------\n",
            "Marco P.                  | $25 MXN\n",
            "Jenny                     | $30 MXN\n",
            "Britney Baby              | $40 MXN\n",
            "Pepe Guardabosques        | $50 MXN\n",
            "Lombardo El Destructor    | $75 MXN\n"
          ],
          "name": "stdout"
        }
      ]
    },
    {
      "cell_type": "code",
      "metadata": {
        "id": "7KBmumOief0D"
      },
      "source": [
        ""
      ],
      "execution_count": null,
      "outputs": []
    }
  ]
}