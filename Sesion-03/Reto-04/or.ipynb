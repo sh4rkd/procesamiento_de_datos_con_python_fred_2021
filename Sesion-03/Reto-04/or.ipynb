{
  "nbformat": 4,
  "nbformat_minor": 0,
  "metadata": {
    "kernelspec": {
      "display_name": "Python 3",
      "language": "python",
      "name": "python3"
    },
    "language_info": {
      "codemirror_mode": {
        "name": "ipython",
        "version": 3
      },
      "file_extension": ".py",
      "mimetype": "text/x-python",
      "name": "python",
      "nbconvert_exporter": "python",
      "pygments_lexer": "ipython3",
      "version": "3.8.3"
    },
    "colab": {
      "name": "or.ipynb",
      "provenance": [],
      "include_colab_link": true
    }
  },
  "cells": [
    {
      "cell_type": "markdown",
      "metadata": {
        "id": "view-in-github",
        "colab_type": "text"
      },
      "source": [
        "<a href=\"https://colab.research.google.com/github/sh4rkd/procesamiento_de_datos_con_python_fred_2021/blob/master/Sesion-03/Reto-04/or.ipynb\" target=\"_parent\"><img src=\"https://colab.research.google.com/assets/colab-badge.svg\" alt=\"Open In Colab\"/></a>"
      ]
    },
    {
      "cell_type": "markdown",
      "metadata": {
        "id": "RWpwoT0wFL2Y"
      },
      "source": [
        "## Reto 4: Or\n",
        "\n",
        "### 1. Objetivos:\n",
        "    - Practicar el operador `or` y usarlo para realizar filtros más complejos\n",
        " \n",
        "---\n",
        "    \n",
        "### 2. Desarrollo:"
      ]
    },
    {
      "cell_type": "markdown",
      "metadata": {
        "id": "m8slVlT-FL2b"
      },
      "source": [
        "#### a) Filtrando palabras\n",
        "\n",
        "Eres el organizador del Concurso Nacional de Deletreo \"Salvador Novo\". Por una bella coincidencia, este año el día del concurso cae justo el mismo día que el Día del Orgullo LGBT. Dado que Salvador Novo era homosexual, te parece muy apropiado que el concurso de deletreo funcione como una celebración de su \"belicosa homosexualidad\" (como la llamaba Carlos Monsiváis). Se te ocurre hacer lo siguiente:\n",
        "\n",
        "De la lista de palabras que tenías originalmente para el concurso, vas a filtrar las palabras para que sólo tengas palabras que empiecen con \"l\" **o** o con \"g\" **o** con \"b\" **o** con \"t\".\n",
        "\n",
        "Aquí está tu lista original de palabras:"
      ]
    },
    {
      "cell_type": "code",
      "metadata": {
        "id": "RWxq5iwIFL2c"
      },
      "source": [
        "palabras = ['cabildo', 'genocidio', 'severo', 'jarana', 'enigmático', 'jaguar', 'solidaridad', 'reivindicar', 'bálsamo', 'panteón',\n",
        "            'cabestrillo', 'boicotear', 'letargo', 'jaqueca', 'tentáculo', 'legislar', 'gnomo', 'blasfemia', 'camposanto',\n",
        "            'factible', 'eficaz', 'sintonía', 'lloriquear', 'fachada', 'edificante', 'pétalo', 'libélula', 'pavimento', 'llovizna',\n",
        "            'racimo', 'gargantilla', 'relieve', 'bóveda', 'tecnicismo', 'terraplén', 'basílica']"
      ],
      "execution_count": 2,
      "outputs": []
    },
    {
      "cell_type": "markdown",
      "metadata": {
        "id": "2rUf3GLIFL2c"
      },
      "source": [
        "1. Escribe 4 funciones, para cada una de las letras del acrónimo LGBT. Las funciones van a regresar `True` sólo si la palabra comienza con la letra que le corresponde.\n",
        "\n",
        "    Por ejemplo, la función `palabra_comienza_con_l` va a regresar `True` sólo si la palabra comienza con `l`.\n",
        "\n",
        "2. Después, define una función que sea la unión de estas 4 funciones y regrese `True` si la palabra comienza con alguna de las letras del acrónimo LGBT.\n",
        "\n",
        "3. Finalmente filtra la `lista` `palabras` para tener una nueva lista que será la `lista` usada para el concurso.\n",
        "\n",
        "> **Tip #1**: Las `strings` pueden ser accedas igual que las listas, así que si quieres acceder a la primera letra de una palabra basta con usar `palabra[0]`, como si fuera el primer índice de una `lista`.\n",
        "\n",
        "> **Tip #2**: Hasta ahora sólo hemos usando operadores `lógicos` con 1 o 2 comparaciones. Juntar más de dos comparaciones es tan fácil como escribir: \n",
        "\n",
        "```python\n",
        "comparacion_1 or comparacion_2 or comparacion_3 or comparacion_4\n",
        "```"
      ]
    },
    {
      "cell_type": "code",
      "metadata": {
        "id": "INXdkmuxFL2d"
      },
      "source": [
        "def comparacion_1(palabra):\n",
        "  return palabra[0]==\"l\""
      ],
      "execution_count": 1,
      "outputs": []
    },
    {
      "cell_type": "code",
      "metadata": {
        "id": "7ivTuBTaFL2e"
      },
      "source": [
        "def comparacion_2(palabra):\n",
        "  return palabra[0]==\"g\""
      ],
      "execution_count": 8,
      "outputs": []
    },
    {
      "cell_type": "code",
      "metadata": {
        "id": "zbFVfdAMFL2f"
      },
      "source": [
        "def comparacion_3(palabra):\n",
        "  return palabra[0]==\"b\""
      ],
      "execution_count": 9,
      "outputs": []
    },
    {
      "cell_type": "code",
      "metadata": {
        "id": "BBrCQa0WFL2f"
      },
      "source": [
        "def comparacion_4(palabra):\n",
        "  return palabra[0]==\"t\""
      ],
      "execution_count": 10,
      "outputs": []
    },
    {
      "cell_type": "code",
      "metadata": {
        "id": "Rg2chBf7FL2g"
      },
      "source": [
        "def filtrar_palabras(palabra):\n",
        "  return comparacion_1(palabra) or comparacion_2(palabra) or comparacion_3(palabra) or comparacion_4(palabra)"
      ],
      "execution_count": 6,
      "outputs": []
    },
    {
      "cell_type": "code",
      "metadata": {
        "id": "DPP9Xh4KFL2h"
      },
      "source": [
        "palabras_filtradas = list(filter(filtrar_palabras,palabras))"
      ],
      "execution_count": 11,
      "outputs": []
    },
    {
      "cell_type": "code",
      "metadata": {
        "id": "JqDr-OufFL2i",
        "outputId": "dbde2ece-2385-4533-9754-a8caa0a49d18",
        "colab": {
          "base_uri": "https://localhost:8080/"
        }
      },
      "source": [
        "print(f'==Concurso Nacional de Deletreo \"Salvador Novo\"==\\n')\n",
        "print(f'Lista oficial de palabras: {palabras_filtradas}')"
      ],
      "execution_count": 12,
      "outputs": [
        {
          "output_type": "stream",
          "text": [
            "==Concurso Nacional de Deletreo \"Salvador Novo\"==\n",
            "\n",
            "Lista oficial de palabras: ['genocidio', 'bálsamo', 'boicotear', 'tentáculo', 'gnomo', 'blasfemia', 'gargantilla', 'bóveda', 'tecnicismo', 'terraplén', 'basílica']\n"
          ],
          "name": "stdout"
        }
      ]
    }
  ]
}